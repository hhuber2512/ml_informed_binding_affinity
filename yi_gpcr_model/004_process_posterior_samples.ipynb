{
 "cells": [
  {
   "cell_type": "code",
   "execution_count": 2,
   "metadata": {},
   "outputs": [],
   "source": [
    "using Serialization, MCMCChains\n",
    "include(\"process_posterior_samples.jl\");"
   ]
  },
  {
   "attachments": {},
   "cell_type": "markdown",
   "metadata": {},
   "source": [
    "Combine Subchains into one, (thinned) chain. Thinned to decrease storage space"
   ]
  },
  {
   "cell_type": "code",
   "execution_count": 3,
   "metadata": {},
   "outputs": [],
   "source": [
    "n_ensemble = 1\n",
    "n_walkers = 1000\n",
    "n_iterations = 1000\n",
    "n_subchains = 30\n",
    "approach = \"unregularized\"\n",
    "thin = 100\n",
    "combine_subchains(n_ensemble, n_walkers, n_iterations, n_subchains, approach, thin)"
   ]
  },
  {
   "attachments": {},
   "cell_type": "markdown",
   "metadata": {},
   "source": [
    "Delete Individual Subchains: WARNING, cannot undo this"
   ]
  },
  {
   "cell_type": "code",
   "execution_count": null,
   "metadata": {},
   "outputs": [],
   "source": [
    "delete_subchains(n_ensemble, n_walkers, n_iterations, n_subchains, approach, thin)"
   ]
  }
 ],
 "metadata": {
  "kernelspec": {
   "display_name": "Julia(ml_informed_binding_affinity_10_threads) 1.11.1",
   "language": "julia",
   "name": "julia_ml_informed_binding_affinity_10_threads_-1.11"
  },
  "language_info": {
   "file_extension": ".jl",
   "mimetype": "application/julia",
   "name": "julia",
   "version": "1.11.1"
  },
  "orig_nbformat": 4
 },
 "nbformat": 4,
 "nbformat_minor": 2
}
