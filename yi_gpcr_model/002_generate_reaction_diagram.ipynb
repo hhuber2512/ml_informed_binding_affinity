{
 "cells": [
  {
   "cell_type": "code",
   "execution_count": 1,
   "metadata": {},
   "outputs": [],
   "source": [
    "using Catalyst, Latexify\n",
    "include(\"model.jl\");"
   ]
  },
  {
   "cell_type": "code",
   "execution_count": 2,
   "metadata": {},
   "outputs": [
    {
     "data": {
      "text/latex": [
       "$$ \\begin{align*}\n",
       "\\mathrm{L} + \\mathrm{R} &\\xrightleftharpoons[\\mathtt{k_{1inv}}]{\\mathtt{k_{1}}} \\mathrm{\\mathtt{RL}} \\\\\n",
       "\\mathrm{\\mathtt{Gd}} + \\mathrm{\\mathtt{Gbg}} &\\xrightarrow{\\mathtt{k_{2}}} \\mathrm{G} \\\\\n",
       "\\mathrm{\\mathtt{RL}} + \\mathrm{G} &\\xrightarrow{\\mathtt{k_{3}}} \\mathrm{\\mathtt{Ga}} + \\mathrm{\\mathtt{Gbg}} + \\mathrm{\\mathtt{RL}} \\\\\n",
       "\\varnothing &\\xrightleftharpoons[\\mathtt{k_{5}}]{\\mathtt{k_{4}}} \\mathrm{R} \\\\\n",
       "\\mathrm{\\mathtt{RL}} &\\xrightarrow{\\mathtt{k_{6}}} \\varnothing \\\\\n",
       "\\mathrm{\\mathtt{Ga}} &\\xrightarrow{\\mathtt{k_{7}}} \\mathrm{\\mathtt{Gd}}  \n",
       " \\end{align*}\n",
       " $$"
      ],
      "text/plain": [
       "\u001b[0m\u001b[1mModel ##ReactionSystem#236:\u001b[22m\n",
       "\u001b[0m\u001b[1mUnknowns (7):\u001b[22m see unknowns(sys)\n",
       "  R(t) [defaults to 10000.0]\n",
       "  L(t) [defaults to 6.022e17]\n",
       "  RL(t) [defaults to 0.0]\n",
       "  Gd(t) [defaults to 3000.0]\n",
       "  Gbg(t) [defaults to 3000.0]\n",
       "  G(t) [defaults to 7000.0]\n",
       "\u001b[0m  ⋮\n",
       "\u001b[0m\u001b[1mParameters (8):\u001b[22m see parameters(sys)\n",
       "  k_1 [defaults to 3.32e-18]\n",
       "  k_1inv [defaults to 0.01]\n",
       "  k_2 [defaults to 1.0]\n",
       "  k_3 [defaults to 1.0e-5]\n",
       "  k_4 [defaults to 4.0]\n",
       "  k_5 [defaults to 0.0004]\n",
       "\u001b[0m  ⋮"
      ]
     },
     "execution_count": 2,
     "metadata": {},
     "output_type": "execute_result"
    }
   ],
   "source": [
    "#define GPCR Reaction Network\n",
    "reaction_network = gpcr_ode()"
   ]
  },
  {
   "cell_type": "code",
   "execution_count": 3,
   "metadata": {},
   "outputs": [
    {
     "name": "stdout",
     "output_type": "stream",
     "text": [
      "\\begin{align*}\n",
      "\\mathrm{L} + \\mathrm{R} &\\xrightleftharpoons[\\mathtt{k_{1inv}}]{\\mathtt{k_{1}}} \\mathrm{\\mathtt{RL}} \\\\\n",
      "\\mathrm{\\mathtt{Gd}} + \\mathrm{\\mathtt{Gbg}} &\\xrightarrow{\\mathtt{k_{2}}} \\mathrm{G} \\\\\n",
      "\\mathrm{\\mathtt{RL}} + \\mathrm{G} &\\xrightarrow{\\mathtt{k_{3}}} \\mathrm{\\mathtt{Ga}} + \\mathrm{\\mathtt{Gbg}} + \\mathrm{\\mathtt{RL}} \\\\\n",
      "\\varnothing &\\xrightleftharpoons[\\mathtt{k_{5}}]{\\mathtt{k_{4}}} \\mathrm{R} \\\\\n",
      "\\mathrm{\\mathtt{RL}} &\\xrightarrow{\\mathtt{k_{6}}} \\varnothing \\\\\n",
      "\\mathrm{\\mathtt{Ga}} &\\xrightarrow{\\mathtt{k_{7}}} \\mathrm{\\mathtt{Gd}}  \n",
      " \\end{align*}\n"
     ]
    }
   ],
   "source": [
    "#copy and paste output to latex with chemarr and amsmath packages to render correctly the reaction system\n",
    "latexify(reaction_network) |> print"
   ]
  },
  {
   "cell_type": "code",
   "execution_count": 4,
   "metadata": {},
   "outputs": [
    {
     "data": {
      "text/latex": [
       "$$ \\begin{align}\n",
       "\\frac{\\mathrm{d} R\\left( t \\right)}{\\mathrm{d}t} &= \\mathtt{k\\_4} + \\mathtt{k\\_1inv} \\mathtt{RL}\\left( t \\right) - \\mathtt{k\\_5} R\\left( t \\right) - \\mathtt{k\\_1} R\\left( t \\right) L\\left( t \\right) \\\\\n",
       "\\frac{\\mathrm{d} L\\left( t \\right)}{\\mathrm{d}t} &= \\mathtt{k\\_1inv} \\mathtt{RL}\\left( t \\right) - \\mathtt{k\\_1} R\\left( t \\right) L\\left( t \\right) \\\\\n",
       "\\frac{\\mathrm{d} \\mathtt{RL}\\left( t \\right)}{\\mathrm{d}t} &=  - \\mathtt{k\\_1inv} \\mathtt{RL}\\left( t \\right) - \\mathtt{k\\_6} \\mathtt{RL}\\left( t \\right) + \\mathtt{k\\_1} R\\left( t \\right) L\\left( t \\right) \\\\\n",
       "\\frac{\\mathrm{d} \\mathtt{Gd}\\left( t \\right)}{\\mathrm{d}t} &= \\mathtt{k\\_7} \\mathtt{Ga}\\left( t \\right) - \\mathtt{k\\_2} \\mathtt{Gd}\\left( t \\right) \\mathtt{Gbg}\\left( t \\right) \\\\\n",
       "\\frac{\\mathrm{d} \\mathtt{Gbg}\\left( t \\right)}{\\mathrm{d}t} &=  - \\mathtt{k\\_2} \\mathtt{Gd}\\left( t \\right) \\mathtt{Gbg}\\left( t \\right) + \\mathtt{k\\_3} G\\left( t \\right) \\mathtt{RL}\\left( t \\right) \\\\\n",
       "\\frac{\\mathrm{d} G\\left( t \\right)}{\\mathrm{d}t} &= \\mathtt{k\\_2} \\mathtt{Gd}\\left( t \\right) \\mathtt{Gbg}\\left( t \\right) - \\mathtt{k\\_3} G\\left( t \\right) \\mathtt{RL}\\left( t \\right) \\\\\n",
       "\\frac{\\mathrm{d} \\mathtt{Ga}\\left( t \\right)}{\\mathrm{d}t} &=  - \\mathtt{k\\_7} \\mathtt{Ga}\\left( t \\right) + \\mathtt{k\\_3} G\\left( t \\right) \\mathtt{RL}\\left( t \\right)\n",
       "\\end{align}\n",
       " $$"
      ],
      "text/plain": [
       "\u001b[0m\u001b[1mModel ##ReactionSystem#236:\u001b[22m\n",
       "\u001b[0m\u001b[1mEquations (7):\u001b[22m\n",
       "  7 standard: see equations(sys)\n",
       "\u001b[0m\u001b[1mUnknowns (7):\u001b[22m see unknowns(sys)\n",
       "  R(t) [defaults to 10000.0]\n",
       "  L(t) [defaults to 6.022e17]\n",
       "  RL(t) [defaults to 0.0]\n",
       "  Gd(t) [defaults to 3000.0]\n",
       "  Gbg(t) [defaults to 3000.0]\n",
       "  G(t) [defaults to 7000.0]\n",
       "\u001b[0m  ⋮\n",
       "\u001b[0m\u001b[1mParameters (8):\u001b[22m see parameters(sys)\n",
       "  k_1 [defaults to 3.32e-18]\n",
       "  k_1inv [defaults to 0.01]\n",
       "  k_2 [defaults to 1.0]\n",
       "  k_3 [defaults to 1.0e-5]\n",
       "  k_4 [defaults to 4.0]\n",
       "  k_5 [defaults to 0.0004]\n",
       "\u001b[0m  ⋮"
      ]
     },
     "execution_count": 4,
     "metadata": {},
     "output_type": "execute_result"
    }
   ],
   "source": [
    "#Define System of ODEs for GPCR\n",
    "odesys = Catalyst.convert(ODESystem, reaction_network)"
   ]
  },
  {
   "cell_type": "code",
   "execution_count": 5,
   "metadata": {},
   "outputs": [
    {
     "name": "stdout",
     "output_type": "stream",
     "text": [
      "\\begin{align}\n",
      "\\frac{\\mathrm{d} R\\left( t \\right)}{\\mathrm{d}t} &= \\mathtt{k\\_4} + \\mathtt{k\\_1inv} \\mathtt{RL}\\left( t \\right) - \\mathtt{k\\_5} R\\left( t \\right) - \\mathtt{k\\_1} R\\left( t \\right) L\\left( t \\right) \\\\\n",
      "\\frac{\\mathrm{d} L\\left( t \\right)}{\\mathrm{d}t} &= \\mathtt{k\\_1inv} \\mathtt{RL}\\left( t \\right) - \\mathtt{k\\_1} R\\left( t \\right) L\\left( t \\right) \\\\\n",
      "\\frac{\\mathrm{d} \\mathtt{RL}\\left( t \\right)}{\\mathrm{d}t} &=  - \\mathtt{k\\_1inv} \\mathtt{RL}\\left( t \\right) - \\mathtt{k\\_6} \\mathtt{RL}\\left( t \\right) + \\mathtt{k\\_1} R\\left( t \\right) L\\left( t \\right) \\\\\n",
      "\\frac{\\mathrm{d} \\mathtt{Gd}\\left( t \\right)}{\\mathrm{d}t} &= \\mathtt{k\\_7} \\mathtt{Ga}\\left( t \\right) - \\mathtt{k\\_2} \\mathtt{Gd}\\left( t \\right) \\mathtt{Gbg}\\left( t \\right) \\\\\n",
      "\\frac{\\mathrm{d} \\mathtt{Gbg}\\left( t \\right)}{\\mathrm{d}t} &=  - \\mathtt{k\\_2} \\mathtt{Gd}\\left( t \\right) \\mathtt{Gbg}\\left( t \\right) + \\mathtt{k\\_3} G\\left( t \\right) \\mathtt{RL}\\left( t \\right) \\\\\n",
      "\\frac{\\mathrm{d} G\\left( t \\right)}{\\mathrm{d}t} &= \\mathtt{k\\_2} \\mathtt{Gd}\\left( t \\right) \\mathtt{Gbg}\\left( t \\right) - \\mathtt{k\\_3} G\\left( t \\right) \\mathtt{RL}\\left( t \\right) \\\\\n",
      "\\frac{\\mathrm{d} \\mathtt{Ga}\\left( t \\right)}{\\mathrm{d}t} &=  - \\mathtt{k\\_7} \\mathtt{Ga}\\left( t \\right) + \\mathtt{k\\_3} G\\left( t \\right) \\mathtt{RL}\\left( t \\right)\n",
      "\\end{align}\n"
     ]
    }
   ],
   "source": [
    "#copy and paste output to latex to render correctly the system of odes\n",
    "latexify(odesys) |> print"
   ]
  }
 ],
 "metadata": {
  "kernelspec": {
   "display_name": "Julia(ml_informed_binding_affinity) 1.11.1",
   "language": "julia",
   "name": "julia_ml_informed_binding_affinity_-1.11"
  },
  "language_info": {
   "file_extension": ".jl",
   "mimetype": "application/julia",
   "name": "julia",
   "version": "1.11.1"
  },
  "orig_nbformat": 4
 },
 "nbformat": 4,
 "nbformat_minor": 2
}
