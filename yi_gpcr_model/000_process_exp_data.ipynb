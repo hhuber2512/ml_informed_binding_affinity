{
 "cells": [
  {
   "cell_type": "code",
   "execution_count": 1,
   "metadata": {},
   "outputs": [],
   "source": [
    "using CSV, DataFrames, Serialization"
   ]
  },
  {
   "attachments": {},
   "cell_type": "markdown",
   "metadata": {},
   "source": [
    "### Extract Training Data from CSV\n",
    "This script extracts relevant inputs from the experimental data reported in Yi et al. For example, it extracts what timepoints to save at for the timecourse simulation, then serializes the files. As another example, it extracts the ligand dose inputs, and converts them to the correct units (from nM to molecules)\n",
    "\n",
    "Outputs:\n",
    "\n",
    "00_processed_active_G_timecourse.dict: <br>\n",
    "\n",
    "Dict{String, Any} with 3 entries: <br>\n",
    "  \"response\"                       => [0.0, 0.35, 0.4, 0.36, 0.39, 0.33, 0.24, … <br>\n",
    "  \"save_at\"                        => [0, 10, 30, 60, 120, 210, 300, 450, 600] <br>\n",
    "  \"ligand_stimulation (molecules)\" => 6.022e17 <br>\n",
    "  \"average_error\"                 => 0.015 <br>\n",
    "\n",
    "00_processed_active_G_dose_response.dict: <br>\n",
    "\n",
    "Dict{String, Any} with 4 entries: <br>\n",
    "  \"response\"                       => [0.0253298, 0.145646, 0.265963, 0.497098,… <br>\n",
    "  \"save_at\"                        => [60] <br>\n",
    "  \"normalize_to_response_at_dose\"  => 6.022e17 <br>\n",
    "  \"ligand_stimulation (molecules)\" => [6.022e13, 6.022e14, 1.20155e15, 3.01815e… <br>\n",
    "  \"average_error\"                 => 0.03 <br>"
   ]
  },
  {
   "cell_type": "code",
   "execution_count": 2,
   "metadata": {},
   "outputs": [],
   "source": [
    "timecourse = DataFrame(CSV.File(\"data/active_G_timecourse.csv\"))\n",
    "dose_response = DataFrame(CSV.File(\"data/active_G_dose_response.csv\"));"
   ]
  },
  {
   "cell_type": "code",
   "execution_count": 3,
   "metadata": {},
   "outputs": [],
   "source": [
    "#convert ligand stimulation amount to molecules, save with the processed timecourse dictionary\n",
    "ligand_stimulation_M = 1.0e-6 #1 uM\n",
    "avogadros_constant = 6.022e23\n",
    "ligand_stimulation_molecules = ligand_stimulation_M*avogadros_constant\n",
    "average_error = 0.015\n",
    "timecourse_dict = Dict(\"save_at\"=>timecourse[!,\"t\"], \"response\"=>timecourse[!,\" percent Ga\"], \n",
    "\"ligand_stimulation (molecules)\" =>ligand_stimulation_molecules, \"average_error\" => average_error)\n",
    "serialize(\"outputs/000_processed_active_G_timecourse.dict\", timecourse_dict)"
   ]
  },
  {
   "cell_type": "code",
   "execution_count": 4,
   "metadata": {},
   "outputs": [],
   "source": [
    "#convert ligand stimulation from log scale, and from nM to molecules, save with the processed timecourse dictionary\n",
    "save_at = [60] #seconds, needs to be a vector to be inputted into ODEProblem later\n",
    "avogadros_constant = 6.022e23\n",
    "normalize_to = 1.0e-6*6.022e23 #1 uM\n",
    "average_error = 0.03\n",
    "#convert dosages extracted from figure 5B of Yi from log10 nM to molecules - note, doesn't include 1 uM stimulation:\n",
    "dose_response_molecules = [round(x, sigdigits=2) for x in 10.0.^dose_response[!,\"dose(log nM)\"].*1.0e-9.*avogadros_constant]\n",
    "#save\n",
    "dose_response_dict = Dict(\"ligand_stimulation (molecules)\"=>dose_response_molecules, \"response\"=>dose_response[!,\"relative Ga\"], \"save_at\" =>save_at, \n",
    "\"normalize_to_response_at_dose\"=>normalize_to,\"average_error\" => average_error)\n",
    "serialize(\"outputs/000_processed_active_G_dose_response.dict\", dose_response_dict)"
   ]
  },
  {
   "attachments": {},
   "cell_type": "markdown",
   "metadata": {},
   "source": [
    "### Extract Relevant Outputs for Test Set\n",
    "\n",
    "000_processed_binding_affinity_dose_response.dict: <br>\n",
    "\n",
    "Dict{String, Any} with 4 entries: <br>\n",
    "  \"response\"                       => [0.0253298, 0.145646, 0.265963, 0.497098,… <br>\n",
    "  \"save_at\"                        => [60] <br>\n",
    "  \"normalize_to_response_at_dose\"  => 6.022e17 <br>\n",
    "  \"ligand_stimulation (molecules)\" => [6.022e13, 6.022e14, 1.20155e15, 3.01815e… <br>\n",
    "  \"average_error\"                 => 0.03 <br>"
   ]
  },
  {
   "cell_type": "code",
   "execution_count": 5,
   "metadata": {},
   "outputs": [],
   "source": [
    "#convert ligand stimulation from nM to molecules, save with the processed timecourse dictionary\n",
    "dose_response = DataFrame(CSV.File(\"data/binding_affinity_dose_response.csv\"));\n",
    "save_at = [60] #seconds, needs to be a vector to be inputted into ODEProblem later\n",
    "avogadros_constant = 6.022e23\n",
    "normalize_to = 1.0e-6*6.022e23 #1 uM\n",
    "average_error = 0.03 #assume error is equal across dose response measurements\n",
    "#convert dosages extracted from figure 4A of Yi from nM to molecules - note, doesn't include 1 uM stimulation:\n",
    "#also note, this is not on log scale, unlike previous conversion\n",
    "dose_response_molecules = [round(x, sigdigits=2) for x in dose_response[!,\"dose(nM)\"].*1.0e-9.*avogadros_constant]\n",
    "#save\n",
    "dose_response_dict = Dict(\"ligand_stimulation (molecules)\"=>dose_response_molecules, \"response\"=>dose_response[!,\" relative RL\"], \"save_at\" =>save_at, \n",
    "\"normalize_to_response_at_dose\"=>normalize_to,\"average_error\" => average_error)\n",
    "serialize(\"outputs/000_processed_binding_affinity_dose_response.dict\", dose_response_dict)"
   ]
  }
 ],
 "metadata": {
  "kernelspec": {
   "display_name": "Julia(ml_informed_binding_affinity_10_threads) 1.11.1",
   "language": "julia",
   "name": "julia_ml_informed_binding_affinity_10_threads_-1.11"
  },
  "language_info": {
   "file_extension": ".jl",
   "mimetype": "application/julia",
   "name": "julia",
   "version": "1.11.1"
  },
  "orig_nbformat": 4
 },
 "nbformat": 4,
 "nbformat_minor": 2
}
