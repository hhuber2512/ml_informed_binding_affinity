{
 "cells": [
  {
   "cell_type": "code",
   "execution_count": 3,
   "metadata": {},
   "outputs": [],
   "source": [
    "using Serialization, Turing\n",
    "include(\"ode_problem.jl\");\n",
    "include(\"target_probability.jl\");\n",
    "include(\"bayesian_inference.jl\");"
   ]
  },
  {
   "attachments": {},
   "cell_type": "markdown",
   "metadata": {},
   "source": [
    "### Define Target Distribution for Sampling"
   ]
  },
  {
   "cell_type": "code",
   "execution_count": 7,
   "metadata": {},
   "outputs": [],
   "source": [
    "#first input we need are data points and each point's associated standard deviation\n",
    "experiment_timecourse = deserialize(\"outputs/000_processed_active_G_timecourse.dict\")\n",
    "experiment_dose_response = deserialize(\"outputs/000_processed_active_G_dose_response.dict\");\n",
    "#reshape for input to target probability \n",
    "data_points = append!(experiment_timecourse[\"response\"], experiment_dose_response[\"response\"])\n",
    "std_dev = append!(fill(experiment_timecourse[\"standard_error\"],length(experiment_timecourse[\"response\"])), \n",
    "fill(experiment_dose_response[\"standard_error\"], length(experiment_dose_response[\"response\"])))\n",
    "\n",
    "#next input we need is an ode problem\n",
    "odesys, u0, tspan, p = return_ode_problem_default_inputs()\n",
    "odeprob = DifferentialEquations.ODEProblem(odesys, u0, tspan, p);\n",
    "\n",
    "#also need regularization hyperparameters\n",
    "#note - must convert from M to molecules to match units\n",
    "avogadros_constant = 6.022e23 \n",
    "regularization_hyperparams = Dict(\"mean\" => 1.01e-7*avogadros_constant, \"std_dev\" => 0.8, \"lambda\" => 1)\n",
    "regularization_hyperparams_theoretical = Dict(\"mean\" => 5.0e-9*avogadros_constant, \"std_dev\" => 1, \"lambda\" => 1)\n",
    "\n",
    "#and ode solver inputs for both timecourse simulation and dose response simulation\n",
    "solver_inputs_timecourse = return_ode_problem_solver_default_inputs(\"timecourse\")\n",
    "solver_inputs_dose_response = return_ode_problem_solver_default_inputs(\"dose_response\")\n",
    "\n",
    "#finally, ligand concentrations for dose respones simulation and normalization\n",
    "ligand_doses = experiment_dose_response[\"ligand_stimulation (molecules)\"];\n",
    "normalization_dose = experiment_dose_response[\"normalize_to_response_at_dose\"];"
   ]
  },
  {
   "cell_type": "code",
   "execution_count": 6,
   "metadata": {},
   "outputs": [],
   "source": [
    "#target probability definition\n",
    "target_distribution_regularized = logprob_regularized(data_points, odeprob, std_dev, regularization_hyperparams, solver_inputs_timecourse, \n",
    "solver_inputs_dose_response, ligand_doses, normalization_dose);\n",
    "\n",
    "target_distribution_regularized_theoretical = logprob_regularized(data_points, odeprob, std_dev, regularization_hyperparams_theoretical, solver_inputs_timecourse, \n",
    "solver_inputs_dose_response, ligand_doses, normalization_dose);\n",
    "\n",
    "target_distribution_unregularized = logprob_unregularized(data_points, odeprob, std_dev, solver_inputs_timecourse, \n",
    "solver_inputs_dose_response, ligand_doses, normalization_dose);"
   ]
  },
  {
   "attachments": {},
   "cell_type": "markdown",
   "metadata": {},
   "source": [
    "### Run Affine Invariant Sampler"
   ]
  },
  {
   "cell_type": "code",
   "execution_count": null,
   "metadata": {},
   "outputs": [],
   "source": [
    "#affine invariant sampler parameters\n",
    "n_ensemble = 1\n",
    "n_walkers = 1000\n",
    "n_iterations = 1000\n",
    "\n",
    "#target probability\n",
    "target_probability = Dict(\"unregularized\"=>target_distribution_unregularized, \n",
    "\"regularized\"=>target_distribution_regularized, \"regularized_theoretical\"=>target_distribution_regularized_theoretical)\n",
    "\n",
    "#initial run for both regularized and unregularized \n",
    "for i in [\"regularized\", \"unregularized\", \"regularized_theoretical\"]\n",
    "    affine_invariant_mcmc_firstrun(n_ensemble, n_walkers, n_iterations, target_probability[i], i)\n",
    "end\n",
    "\n",
    "#generate 50,000 samples per walker for all target probabilities\n",
    "n_subchains = 50\n",
    "for i in [\"regularized\", \"unregularized\"]\n",
    "    affine_invariant_mcmc(n_ensemble, n_walkers, n_iterations, target_probability[i], n_subchains, i)\n",
    "end"
   ]
  }
 ],
 "metadata": {
  "kernelspec": {
   "display_name": "Julia(ml_informed_binding_affinity) 1.11.1",
   "language": "julia",
   "name": "julia_ml_informed_binding_affinity_-1.11"
  },
  "language_info": {
   "file_extension": ".jl",
   "mimetype": "application/julia",
   "name": "julia",
   "version": "1.11.1"
  },
  "orig_nbformat": 4
 },
 "nbformat": 4,
 "nbformat_minor": 2
}
