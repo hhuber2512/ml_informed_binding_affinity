{
 "cells": [
  {
   "cell_type": "code",
   "execution_count": 1,
   "metadata": {},
   "outputs": [
    {
     "name": "stderr",
     "output_type": "stream",
     "text": [
      "\u001b[36m\u001b[1m[ \u001b[22m\u001b[39m\u001b[36m\u001b[1mInfo: \u001b[22m\u001b[39mPrecompiling DiffEqBaseTrackerExt [1ba67e42-7aa7-5162-ac9b-c09642cdebbf] (cache misses: wrong dep version loaded (4))\n",
      "\u001b[36m\u001b[1m[ \u001b[22m\u001b[39m\u001b[36m\u001b[1mInfo: \u001b[22m\u001b[39mPrecompiling DistributionsADLazyArraysExt [1640c15e-5bc7-5daf-855c-3cb1bdbdee06] (cache misses: wrong dep version loaded (2))\n",
      "\u001b[36m\u001b[1m[ \u001b[22m\u001b[39m\u001b[36m\u001b[1mInfo: \u001b[22m\u001b[39mPrecompiling SimpleNonlinearSolveTrackerExt [ac004708-0488-5d74-bdd8-3e2743d441a0] (cache misses: wrong dep version loaded (4))\n",
      "\u001b[36m\u001b[1m[ \u001b[22m\u001b[39m\u001b[36m\u001b[1mInfo: \u001b[22m\u001b[39mPrecompiling OptimizationMTKExt [ead85033-3460-5ce4-9d4b-429d76e53be9] (cache misses: wrong dep version loaded (4))\n",
      "\u001b[36m\u001b[1m[ \u001b[22m\u001b[39m\u001b[36m\u001b[1mInfo: \u001b[22m\u001b[39mPrecompiling FastPowerTrackerExt [18c65b70-2546-5492-ac4c-dad4ac5611e8] (cache misses: wrong dep version loaded (4))\n",
      "\u001b[36m\u001b[1m[ \u001b[22m\u001b[39m\u001b[36m\u001b[1mInfo: \u001b[22m\u001b[39mPrecompiling AdvancedHMCOrdinaryDiffEqExt [b79d61f8-5e13-53f1-8c3e-d7d191782ea7] (cache misses: wrong dep version loaded (4))\n"
     ]
    }
   ],
   "source": [
    "using Serialization, Turing\n",
    "include(\"ode_problem.jl\");\n",
    "include(\"target_probability.jl\");\n",
    "include(\"bayesian_inference.jl\");"
   ]
  },
  {
   "attachments": {},
   "cell_type": "markdown",
   "metadata": {},
   "source": [
    "### Define Target Distribution for Sampling"
   ]
  },
  {
   "cell_type": "code",
   "execution_count": 5,
   "metadata": {},
   "outputs": [],
   "source": [
    "#first input we need are data points and each point's associated standard deviation\n",
    "experiment_timecourse = deserialize(\"outputs/000_processed_active_G_timecourse.dict\")\n",
    "experiment_dose_response = deserialize(\"outputs/000_processed_active_G_dose_response.dict\");\n",
    "#reshape for input to target probability \n",
    "data_points = vcat(experiment_timecourse[\"response\"], experiment_dose_response[\"response\"])\n",
    "std_dev = vcat(fill(experiment_timecourse[\"average_error\"], length(experiment_timecourse[\"response\"])), \n",
    "fill(experiment_dose_response[\"average_error\"], length(experiment_dose_response[\"response\"])))\n",
    "\n",
    "#next input we need is an ode problem\n",
    "odesys, u0, tspan, p = return_ode_problem_default_inputs()\n",
    "odeprob = DifferentialEquations.ODEProblem(odesys, u0, tspan, p);\n",
    "\n",
    "#also need regularization hyperparameters\n",
    "#note - must convert from M to molecules to match units\n",
    "avogadros_constant = 6.022e23 \n",
    "regularization_hyperparams = Dict(\"mean\" => log10(1.01e-7*avogadros_constant), \"std_dev\" => 0.8, \"lambda\" => 1)\n",
    "regularization_hyperparams_theoretical = Dict(\"mean\" => log10(5.0e-9*avogadros_constant), \"std_dev\" => 1, \"lambda\" => 1)\n",
    "\n",
    "#and ode solver inputs for both timecourse simulation and dose response simulation\n",
    "solver_inputs_timecourse = return_ode_problem_solver_default_inputs(\"timecourse\")\n",
    "solver_inputs_dose_response = return_ode_problem_solver_default_inputs(\"dose_response\")\n",
    "\n",
    "#finally, ligand concentrations for dose respones simulation and normalization\n",
    "ligand_doses = experiment_dose_response[\"ligand_stimulation (molecules)\"];\n",
    "normalization_dose = experiment_dose_response[\"normalize_to_response_at_dose\"];\n",
    "all_ligand_doses = vcat(ligand_doses,normalization_dose);"
   ]
  },
  {
   "cell_type": "code",
   "execution_count": 6,
   "metadata": {},
   "outputs": [],
   "source": [
    "#target probability definition\n",
    "target_distribution_regularized = logprob_regularized(data_points, odeprob, std_dev, regularization_hyperparams, solver_inputs_timecourse, \n",
    "solver_inputs_dose_response, all_ligand_doses);\n",
    "\n",
    "target_distribution_regularized_theoretical = logprob_regularized(data_points, odeprob, std_dev, regularization_hyperparams_theoretical, solver_inputs_timecourse, \n",
    "solver_inputs_dose_response, all_ligand_doses);\n",
    "\n",
    "target_distribution_unregularized = logprob_unregularized(data_points, odeprob, std_dev, solver_inputs_timecourse, \n",
    "solver_inputs_dose_response, all_ligand_doses);"
   ]
  },
  {
   "attachments": {},
   "cell_type": "markdown",
   "metadata": {},
   "source": [
    "### Run Affine Invariant Sampler"
   ]
  },
  {
   "cell_type": "code",
   "execution_count": 7,
   "metadata": {},
   "outputs": [
    {
     "data": {
      "text/plain": [
       "Dict{String, Model{F, argnames, (), (), Targs, Tuple{}, DefaultContext} where {F, argnames, Targs}} with 3 entries:\n",
       "  \"regularized\"             => Model{typeof(logprob_regularized), (:data, :odep…\n",
       "  \"regularized_theoretical\" => Model{typeof(logprob_regularized), (:data, :odep…\n",
       "  \"unregularized\"           => Model{typeof(logprob_unregularized), (:data, :od…"
      ]
     },
     "execution_count": 7,
     "metadata": {},
     "output_type": "execute_result"
    }
   ],
   "source": [
    "#affine invariant sampler parameters\n",
    "n_ensemble = 1\n",
    "n_walkers = 1000\n",
    "n_iterations = 1000\n",
    "\n",
    "#target probability\n",
    "target_probability = Dict(\"unregularized\"=>target_distribution_unregularized, \n",
    "\"regularized\"=>target_distribution_regularized, \"regularized_theoretical\"=>target_distribution_regularized_theoretical)"
   ]
  },
  {
   "cell_type": "code",
   "execution_count": 16,
   "metadata": {},
   "outputs": [
    {
     "name": "stderr",
     "output_type": "stream",
     "text": [
      "\u001b[33m\u001b[1m┌ \u001b[22m\u001b[39m\u001b[33m\u001b[1mWarning: \u001b[22m\u001b[39mAt t=0.31956765289595584, dt was forced below floating point epsilon 5.551115123125783e-17, and step error estimate = 1.1174328294930196. Aborting. There is either an error in your model specification or the true solution is unstable (or the true solution can not be represented in the precision of Float64).\n",
      "\u001b[33m\u001b[1m└ \u001b[22m\u001b[39m\u001b[90m@ SciMLBase ~/.julia/packages/SciMLBase/hJh6T/src/integrator_interface.jl:623\u001b[39m\n",
      "\u001b[33m\u001b[1m┌ \u001b[22m\u001b[39m\u001b[33m\u001b[1mWarning: \u001b[22m\u001b[39mAt t=0.31956765289595584, dt was forced below floating point epsilon 5.551115123125783e-17, and step error estimate = 1.1174328294930196. Aborting. There is either an error in your model specification or the true solution is unstable (or the true solution can not be represented in the precision of Float64).\n",
      "\u001b[33m\u001b[1m└ \u001b[22m\u001b[39m\u001b[90m@ SciMLBase ~/.julia/packages/SciMLBase/hJh6T/src/integrator_interface.jl:623\u001b[39m\n",
      "\u001b[33m\u001b[1m┌ \u001b[22m\u001b[39m\u001b[33m\u001b[1mWarning: \u001b[22m\u001b[39mAt t=0.31956765289595584, dt was forced below floating point epsilon 5.551115123125783e-17, and step error estimate = 1.1174328294930196. Aborting. There is either an error in your model specification or the true solution is unstable (or the true solution can not be represented in the precision of Float64).\n",
      "\u001b[33m\u001b[1m└ \u001b[22m\u001b[39m\u001b[90m@ SciMLBase ~/.julia/packages/SciMLBase/hJh6T/src/integrator_interface.jl:623\u001b[39m\n"
     ]
    }
   ],
   "source": [
    "#initial run for both regularized and unregularized \n",
    "for i in [\"regularized_theoretical\", \"unregularized\", \"regularized\"]\n",
    "    affine_invariant_mcmc_firstrun(n_ensemble, n_walkers, n_iterations, target_probability[i], i)\n",
    "end"
   ]
  },
  {
   "cell_type": "code",
   "execution_count": 8,
   "metadata": {},
   "outputs": [
    {
     "name": "stderr",
     "output_type": "stream",
     "text": [
      "\u001b[33m\u001b[1m┌ \u001b[22m\u001b[39m\u001b[33m\u001b[1mWarning: \u001b[22m\u001b[39mAt t=242.32597937885015, dt was forced below floating point epsilon 2.842170943040401e-14, and step error estimate = 1.1174328132205966. Aborting. There is either an error in your model specification or the true solution is unstable (or the true solution can not be represented in the precision of Float64).\n",
      "\u001b[33m\u001b[1m└ \u001b[22m\u001b[39m\u001b[90m@ SciMLBase ~/.julia/packages/SciMLBase/hJh6T/src/integrator_interface.jl:623\u001b[39m\n",
      "\u001b[33m\u001b[1m┌ \u001b[22m\u001b[39m\u001b[33m\u001b[1mWarning: \u001b[22m\u001b[39mAt t=277.64108376658334, dt was forced below floating point epsilon 5.684341886080802e-14, and step error estimate = 1.117433011564668. Aborting. There is either an error in your model specification or the true solution is unstable (or the true solution can not be represented in the precision of Float64).\n",
      "\u001b[33m\u001b[1m└ \u001b[22m\u001b[39m\u001b[90m@ SciMLBase ~/.julia/packages/SciMLBase/hJh6T/src/integrator_interface.jl:623\u001b[39m\n",
      "\u001b[33m\u001b[1m┌ \u001b[22m\u001b[39m\u001b[33m\u001b[1mWarning: \u001b[22m\u001b[39mAt t=391.6874263898566, dt was forced below floating point epsilon 5.684341886080802e-14, and step error estimate = 1.1174328085906997. Aborting. There is either an error in your model specification or the true solution is unstable (or the true solution can not be represented in the precision of Float64).\n",
      "\u001b[33m\u001b[1m└ \u001b[22m\u001b[39m\u001b[90m@ SciMLBase ~/.julia/packages/SciMLBase/hJh6T/src/integrator_interface.jl:623\u001b[39m\n",
      "\u001b[33m\u001b[1m┌ \u001b[22m\u001b[39m\u001b[33m\u001b[1mWarning: \u001b[22m\u001b[39mAt t=332.72862021063725, dt was forced below floating point epsilon 5.684341886080802e-14, and step error estimate = 1.1174333743476677. Aborting. There is either an error in your model specification or the true solution is unstable (or the true solution can not be represented in the precision of Float64).\n",
      "\u001b[33m\u001b[1m└ \u001b[22m\u001b[39m\u001b[90m@ SciMLBase ~/.julia/packages/SciMLBase/hJh6T/src/integrator_interface.jl:623\u001b[39m\n",
      "\u001b[33m\u001b[1m┌ \u001b[22m\u001b[39m\u001b[33m\u001b[1mWarning: \u001b[22m\u001b[39mAt t=215.04321538272356, dt was forced below floating point epsilon 2.842170943040401e-14, and step error estimate = 1.1174329687886029. Aborting. There is either an error in your model specification or the true solution is unstable (or the true solution can not be represented in the precision of Float64).\n",
      "\u001b[33m\u001b[1m└ \u001b[22m\u001b[39m\u001b[90m@ SciMLBase ~/.julia/packages/SciMLBase/hJh6T/src/integrator_interface.jl:623\u001b[39m\n",
      "\u001b[33m\u001b[1m┌ \u001b[22m\u001b[39m\u001b[33m\u001b[1mWarning: \u001b[22m\u001b[39mAt t=506.1910170804109, dt was forced below floating point epsilon 5.684341886080802e-14, and step error estimate = 1.117434633713366. Aborting. There is either an error in your model specification or the true solution is unstable (or the true solution can not be represented in the precision of Float64).\n",
      "\u001b[33m\u001b[1m└ \u001b[22m\u001b[39m\u001b[90m@ SciMLBase ~/.julia/packages/SciMLBase/hJh6T/src/integrator_interface.jl:623\u001b[39m\n",
      "\u001b[33m\u001b[1m┌ \u001b[22m\u001b[39m\u001b[33m\u001b[1mWarning: \u001b[22m\u001b[39mAt t=212.21524519947423, dt was forced below floating point epsilon 2.842170943040401e-14, and step error estimate = 1.1174365840845084. Aborting. There is either an error in your model specification or the true solution is unstable (or the true solution can not be represented in the precision of Float64).\n",
      "\u001b[33m\u001b[1m└ \u001b[22m\u001b[39m\u001b[90m@ SciMLBase ~/.julia/packages/SciMLBase/hJh6T/src/integrator_interface.jl:623\u001b[39m\n",
      "\u001b[33m\u001b[1m┌ \u001b[22m\u001b[39m\u001b[33m\u001b[1mWarning: \u001b[22m\u001b[39mAt t=502.6470299181531, dt was forced below floating point epsilon 5.684341886080802e-14, and step error estimate = 1.1174329943280013. Aborting. There is either an error in your model specification or the true solution is unstable (or the true solution can not be represented in the precision of Float64).\n",
      "\u001b[33m\u001b[1m└ \u001b[22m\u001b[39m\u001b[90m@ SciMLBase ~/.julia/packages/SciMLBase/hJh6T/src/integrator_interface.jl:623\u001b[39m\n",
      "\u001b[33m\u001b[1m┌ \u001b[22m\u001b[39m\u001b[33m\u001b[1mWarning: \u001b[22m\u001b[39mAt t=255.81502400204505, dt was forced below floating point epsilon 2.842170943040401e-14, and step error estimate = 1.117433956424794. Aborting. There is either an error in your model specification or the true solution is unstable (or the true solution can not be represented in the precision of Float64).\n",
      "\u001b[33m\u001b[1m└ \u001b[22m\u001b[39m\u001b[90m@ SciMLBase ~/.julia/packages/SciMLBase/hJh6T/src/integrator_interface.jl:623\u001b[39m\n",
      "\u001b[33m\u001b[1m┌ \u001b[22m\u001b[39m\u001b[33m\u001b[1mWarning: \u001b[22m\u001b[39mAt t=414.1510122313503, dt was forced below floating point epsilon 5.684341886080802e-14, and step error estimate = 1.1174347404361697. Aborting. There is either an error in your model specification or the true solution is unstable (or the true solution can not be represented in the precision of Float64).\n",
      "\u001b[33m\u001b[1m└ \u001b[22m\u001b[39m\u001b[90m@ SciMLBase ~/.julia/packages/SciMLBase/hJh6T/src/integrator_interface.jl:623\u001b[39m\n",
      "\u001b[33m\u001b[1m┌ \u001b[22m\u001b[39m\u001b[33m\u001b[1mWarning: \u001b[22m\u001b[39mAt t=299.90292033858316, dt was forced below floating point epsilon 5.684341886080802e-14, and step error estimate = 1.1174348474056544. Aborting. There is either an error in your model specification or the true solution is unstable (or the true solution can not be represented in the precision of Float64).\n",
      "\u001b[33m\u001b[1m└ \u001b[22m\u001b[39m\u001b[90m@ SciMLBase ~/.julia/packages/SciMLBase/hJh6T/src/integrator_interface.jl:623\u001b[39m\n",
      "\u001b[33m\u001b[1m┌ \u001b[22m\u001b[39m\u001b[33m\u001b[1mWarning: \u001b[22m\u001b[39mAt t=331.85915492729714, dt was forced below floating point epsilon 5.684341886080802e-14, and step error estimate = 1.1174350974773084. Aborting. There is either an error in your model specification or the true solution is unstable (or the true solution can not be represented in the precision of Float64).\n",
      "\u001b[33m\u001b[1m└ \u001b[22m\u001b[39m\u001b[90m@ SciMLBase ~/.julia/packages/SciMLBase/hJh6T/src/integrator_interface.jl:623\u001b[39m\n",
      "\u001b[33m\u001b[1m┌ \u001b[22m\u001b[39m\u001b[33m\u001b[1mWarning: \u001b[22m\u001b[39mAt t=200.98441689449356, dt was forced below floating point epsilon 2.842170943040401e-14, and step error estimate = 1.1174331252086949. Aborting. There is either an error in your model specification or the true solution is unstable (or the true solution can not be represented in the precision of Float64).\n",
      "\u001b[33m\u001b[1m└ \u001b[22m\u001b[39m\u001b[90m@ SciMLBase ~/.julia/packages/SciMLBase/hJh6T/src/integrator_interface.jl:623\u001b[39m\n",
      "\u001b[33m\u001b[1m┌ \u001b[22m\u001b[39m\u001b[33m\u001b[1mWarning: \u001b[22m\u001b[39mAt t=354.7629493520057, dt was forced below floating point epsilon 5.684341886080802e-14, and step error estimate = 1.117433011913928. Aborting. There is either an error in your model specification or the true solution is unstable (or the true solution can not be represented in the precision of Float64).\n",
      "\u001b[33m\u001b[1m└ \u001b[22m\u001b[39m\u001b[90m@ SciMLBase ~/.julia/packages/SciMLBase/hJh6T/src/integrator_interface.jl:623\u001b[39m\n",
      "\u001b[33m\u001b[1m┌ \u001b[22m\u001b[39m\u001b[33m\u001b[1mWarning: \u001b[22m\u001b[39mAt t=554.2821447221723, dt was forced below floating point epsilon 1.1368683772161603e-13, and step error estimate = 1.1174501079506043. Aborting. There is either an error in your model specification or the true solution is unstable (or the true solution can not be represented in the precision of Float64).\n",
      "\u001b[33m\u001b[1m└ \u001b[22m\u001b[39m\u001b[90m@ SciMLBase ~/.julia/packages/SciMLBase/hJh6T/src/integrator_interface.jl:623\u001b[39m\n",
      "\u001b[33m\u001b[1m┌ \u001b[22m\u001b[39m\u001b[33m\u001b[1mWarning: \u001b[22m\u001b[39mAt t=242.80848655425777, dt was forced below floating point epsilon 2.842170943040401e-14, and step error estimate = 1.1174350801062325. Aborting. There is either an error in your model specification or the true solution is unstable (or the true solution can not be represented in the precision of Float64).\n",
      "\u001b[33m\u001b[1m└ \u001b[22m\u001b[39m\u001b[90m@ SciMLBase ~/.julia/packages/SciMLBase/hJh6T/src/integrator_interface.jl:623\u001b[39m\n",
      "\u001b[33m\u001b[1m┌ \u001b[22m\u001b[39m\u001b[33m\u001b[1mWarning: \u001b[22m\u001b[39mAt t=344.16333546401796, dt was forced below floating point epsilon 5.684341886080802e-14, and step error estimate = 1.1174366747038764. Aborting. There is either an error in your model specification or the true solution is unstable (or the true solution can not be represented in the precision of Float64).\n",
      "\u001b[33m\u001b[1m└ \u001b[22m\u001b[39m\u001b[90m@ SciMLBase ~/.julia/packages/SciMLBase/hJh6T/src/integrator_interface.jl:623\u001b[39m\n",
      "\u001b[33m\u001b[1m┌ \u001b[22m\u001b[39m\u001b[33m\u001b[1mWarning: \u001b[22m\u001b[39mAt t=329.6601244241959, dt was forced below floating point epsilon 5.684341886080802e-14, and step error estimate = 1.1174403499765926. Aborting. There is either an error in your model specification or the true solution is unstable (or the true solution can not be represented in the precision of Float64).\n",
      "\u001b[33m\u001b[1m└ \u001b[22m\u001b[39m\u001b[90m@ SciMLBase ~/.julia/packages/SciMLBase/hJh6T/src/integrator_interface.jl:623\u001b[39m\n",
      "\u001b[33m\u001b[1m┌ \u001b[22m\u001b[39m\u001b[33m\u001b[1mWarning: \u001b[22m\u001b[39mAt t=463.12342678801076, dt was forced below floating point epsilon 5.684341886080802e-14, and step error estimate = 1.1174361959602521. Aborting. There is either an error in your model specification or the true solution is unstable (or the true solution can not be represented in the precision of Float64).\n",
      "\u001b[33m\u001b[1m└ \u001b[22m\u001b[39m\u001b[90m@ SciMLBase ~/.julia/packages/SciMLBase/hJh6T/src/integrator_interface.jl:623\u001b[39m\n",
      "\u001b[33m\u001b[1m┌ \u001b[22m\u001b[39m\u001b[33m\u001b[1mWarning: \u001b[22m\u001b[39mAt t=421.2098731471477, dt was forced below floating point epsilon 5.684341886080802e-14, and step error estimate = 1.117434446061842. Aborting. There is either an error in your model specification or the true solution is unstable (or the true solution can not be represented in the precision of Float64).\n",
      "\u001b[33m\u001b[1m└ \u001b[22m\u001b[39m\u001b[90m@ SciMLBase ~/.julia/packages/SciMLBase/hJh6T/src/integrator_interface.jl:623\u001b[39m\n",
      "\u001b[33m\u001b[1m┌ \u001b[22m\u001b[39m\u001b[33m\u001b[1mWarning: \u001b[22m\u001b[39mAt t=209.49769326154, dt was forced below floating point epsilon 2.842170943040401e-14, and step error estimate = 1.1174336277363441. Aborting. There is either an error in your model specification or the true solution is unstable (or the true solution can not be represented in the precision of Float64).\n",
      "\u001b[33m\u001b[1m└ \u001b[22m\u001b[39m\u001b[90m@ SciMLBase ~/.julia/packages/SciMLBase/hJh6T/src/integrator_interface.jl:623\u001b[39m\n",
      "\u001b[33m\u001b[1m┌ \u001b[22m\u001b[39m\u001b[33m\u001b[1mWarning: \u001b[22m\u001b[39mAt t=201.81488782280007, dt was forced below floating point epsilon 2.842170943040401e-14, and step error estimate = 1.1174340365346582. Aborting. There is either an error in your model specification or the true solution is unstable (or the true solution can not be represented in the precision of Float64).\n",
      "\u001b[33m\u001b[1m└ \u001b[22m\u001b[39m\u001b[90m@ SciMLBase ~/.julia/packages/SciMLBase/hJh6T/src/integrator_interface.jl:623\u001b[39m\n",
      "\u001b[33m\u001b[1m┌ \u001b[22m\u001b[39m\u001b[33m\u001b[1mWarning: \u001b[22m\u001b[39mAt t=181.51873033932236, dt was forced below floating point epsilon 2.842170943040401e-14, and step error estimate = 1.1174364543981408. Aborting. There is either an error in your model specification or the true solution is unstable (or the true solution can not be represented in the precision of Float64).\n",
      "\u001b[33m\u001b[1m└ \u001b[22m\u001b[39m\u001b[90m@ SciMLBase ~/.julia/packages/SciMLBase/hJh6T/src/integrator_interface.jl:623\u001b[39m\n",
      "\u001b[33m\u001b[1m┌ \u001b[22m\u001b[39m\u001b[33m\u001b[1mWarning: \u001b[22m\u001b[39mAt t=141.2040507523368, dt was forced below floating point epsilon 2.842170943040401e-14, and step error estimate = 1.1174332316973465. Aborting. There is either an error in your model specification or the true solution is unstable (or the true solution can not be represented in the precision of Float64).\n",
      "\u001b[33m\u001b[1m└ \u001b[22m\u001b[39m\u001b[90m@ SciMLBase ~/.julia/packages/SciMLBase/hJh6T/src/integrator_interface.jl:623\u001b[39m\n",
      "\u001b[33m\u001b[1m┌ \u001b[22m\u001b[39m\u001b[33m\u001b[1mWarning: \u001b[22m\u001b[39mAt t=163.73549262155174, dt was forced below floating point epsilon 2.842170943040401e-14, and step error estimate = 1.1174334110032864. Aborting. There is either an error in your model specification or the true solution is unstable (or the true solution can not be represented in the precision of Float64).\n",
      "\u001b[33m\u001b[1m└ \u001b[22m\u001b[39m\u001b[90m@ SciMLBase ~/.julia/packages/SciMLBase/hJh6T/src/integrator_interface.jl:623\u001b[39m\n",
      "\u001b[33m\u001b[1m┌ \u001b[22m\u001b[39m\u001b[33m\u001b[1mWarning: \u001b[22m\u001b[39mAt t=220.6771054365677, dt was forced below floating point epsilon 2.842170943040401e-14, and step error estimate = 1.1174332566185838. Aborting. There is either an error in your model specification or the true solution is unstable (or the true solution can not be represented in the precision of Float64).\n",
      "\u001b[33m\u001b[1m└ \u001b[22m\u001b[39m\u001b[90m@ SciMLBase ~/.julia/packages/SciMLBase/hJh6T/src/integrator_interface.jl:623\u001b[39m\n",
      "\u001b[33m\u001b[1m┌ \u001b[22m\u001b[39m\u001b[33m\u001b[1mWarning: \u001b[22m\u001b[39mAt t=272.88281926547853, dt was forced below floating point epsilon 5.684341886080802e-14, and step error estimate = 1.1174353759400404. Aborting. There is either an error in your model specification or the true solution is unstable (or the true solution can not be represented in the precision of Float64).\n",
      "\u001b[33m\u001b[1m└ \u001b[22m\u001b[39m\u001b[90m@ SciMLBase ~/.julia/packages/SciMLBase/hJh6T/src/integrator_interface.jl:623\u001b[39m\n",
      "\u001b[33m\u001b[1m┌ \u001b[22m\u001b[39m\u001b[33m\u001b[1mWarning: \u001b[22m\u001b[39mAt t=338.37353404866025, dt was forced below floating point epsilon 5.684341886080802e-14, and step error estimate = 1.1174330016303193. Aborting. There is either an error in your model specification or the true solution is unstable (or the true solution can not be represented in the precision of Float64).\n",
      "\u001b[33m\u001b[1m└ \u001b[22m\u001b[39m\u001b[90m@ SciMLBase ~/.julia/packages/SciMLBase/hJh6T/src/integrator_interface.jl:623\u001b[39m\n",
      "\u001b[33m\u001b[1m┌ \u001b[22m\u001b[39m\u001b[33m\u001b[1mWarning: \u001b[22m\u001b[39mAt t=423.34304616914204, dt was forced below floating point epsilon 5.684341886080802e-14, and step error estimate = 1.1174344593497647. Aborting. There is either an error in your model specification or the true solution is unstable (or the true solution can not be represented in the precision of Float64).\n",
      "\u001b[33m\u001b[1m└ \u001b[22m\u001b[39m\u001b[90m@ SciMLBase ~/.julia/packages/SciMLBase/hJh6T/src/integrator_interface.jl:623\u001b[39m\n",
      "\u001b[33m\u001b[1m┌ \u001b[22m\u001b[39m\u001b[33m\u001b[1mWarning: \u001b[22m\u001b[39mAt t=119.7490093095598, dt was forced below floating point epsilon 1.4210854715202004e-14, and step error estimate = 1.1174330926621863. Aborting. There is either an error in your model specification or the true solution is unstable (or the true solution can not be represented in the precision of Float64).\n",
      "\u001b[33m\u001b[1m└ \u001b[22m\u001b[39m\u001b[90m@ SciMLBase ~/.julia/packages/SciMLBase/hJh6T/src/integrator_interface.jl:623\u001b[39m\n",
      "\u001b[33m\u001b[1m┌ \u001b[22m\u001b[39m\u001b[33m\u001b[1mWarning: \u001b[22m\u001b[39mAt t=211.58174397097403, dt was forced below floating point epsilon 2.842170943040401e-14, and step error estimate = 1.1174330427279242. Aborting. There is either an error in your model specification or the true solution is unstable (or the true solution can not be represented in the precision of Float64).\n",
      "\u001b[33m\u001b[1m└ \u001b[22m\u001b[39m\u001b[90m@ SciMLBase ~/.julia/packages/SciMLBase/hJh6T/src/integrator_interface.jl:623\u001b[39m\n",
      "\u001b[33m\u001b[1m┌ \u001b[22m\u001b[39m\u001b[33m\u001b[1mWarning: \u001b[22m\u001b[39mAt t=209.25229950657587, dt was forced below floating point epsilon 2.842170943040401e-14, and step error estimate = 1.1174388293223245. Aborting. There is either an error in your model specification or the true solution is unstable (or the true solution can not be represented in the precision of Float64).\n",
      "\u001b[33m\u001b[1m└ \u001b[22m\u001b[39m\u001b[90m@ SciMLBase ~/.julia/packages/SciMLBase/hJh6T/src/integrator_interface.jl:623\u001b[39m\n",
      "\u001b[33m\u001b[1m┌ \u001b[22m\u001b[39m\u001b[33m\u001b[1mWarning: \u001b[22m\u001b[39mAt t=360.1240363878722, dt was forced below floating point epsilon 5.684341886080802e-14, and step error estimate = 1.117437627662488. Aborting. There is either an error in your model specification or the true solution is unstable (or the true solution can not be represented in the precision of Float64).\n",
      "\u001b[33m\u001b[1m└ \u001b[22m\u001b[39m\u001b[90m@ SciMLBase ~/.julia/packages/SciMLBase/hJh6T/src/integrator_interface.jl:623\u001b[39m\n",
      "\u001b[33m\u001b[1m┌ \u001b[22m\u001b[39m\u001b[33m\u001b[1mWarning: \u001b[22m\u001b[39mAt t=341.20880158970226, dt was forced below floating point epsilon 5.684341886080802e-14, and step error estimate = 1.1174370336383972. Aborting. There is either an error in your model specification or the true solution is unstable (or the true solution can not be represented in the precision of Float64).\n",
      "\u001b[33m\u001b[1m└ \u001b[22m\u001b[39m\u001b[90m@ SciMLBase ~/.julia/packages/SciMLBase/hJh6T/src/integrator_interface.jl:623\u001b[39m\n",
      "\u001b[33m\u001b[1m┌ \u001b[22m\u001b[39m\u001b[33m\u001b[1mWarning: \u001b[22m\u001b[39mAt t=277.03720447947336, dt was forced below floating point epsilon 5.684341886080802e-14, and step error estimate = 1.1174340854358675. Aborting. There is either an error in your model specification or the true solution is unstable (or the true solution can not be represented in the precision of Float64).\n",
      "\u001b[33m\u001b[1m└ \u001b[22m\u001b[39m\u001b[90m@ SciMLBase ~/.julia/packages/SciMLBase/hJh6T/src/integrator_interface.jl:623\u001b[39m\n",
      "\u001b[33m\u001b[1m┌ \u001b[22m\u001b[39m\u001b[33m\u001b[1mWarning: \u001b[22m\u001b[39mAt t=300.8586320706277, dt was forced below floating point epsilon 5.684341886080802e-14, and step error estimate = 1.1174360402696673. Aborting. There is either an error in your model specification or the true solution is unstable (or the true solution can not be represented in the precision of Float64).\n",
      "\u001b[33m\u001b[1m└ \u001b[22m\u001b[39m\u001b[90m@ SciMLBase ~/.julia/packages/SciMLBase/hJh6T/src/integrator_interface.jl:623\u001b[39m\n",
      "\u001b[33m\u001b[1m┌ \u001b[22m\u001b[39m\u001b[33m\u001b[1mWarning: \u001b[22m\u001b[39mAt t=146.72449741737742, dt was forced below floating point epsilon 2.842170943040401e-14, and step error estimate = 1.117444457178824. Aborting. There is either an error in your model specification or the true solution is unstable (or the true solution can not be represented in the precision of Float64).\n",
      "\u001b[33m\u001b[1m└ \u001b[22m\u001b[39m\u001b[90m@ SciMLBase ~/.julia/packages/SciMLBase/hJh6T/src/integrator_interface.jl:623\u001b[39m\n",
      "\u001b[33m\u001b[1m┌ \u001b[22m\u001b[39m\u001b[33m\u001b[1mWarning: \u001b[22m\u001b[39mAt t=275.0723974507632, dt was forced below floating point epsilon 5.684341886080802e-14, and step error estimate = 1.1174331601070802. Aborting. There is either an error in your model specification or the true solution is unstable (or the true solution can not be represented in the precision of Float64).\n",
      "\u001b[33m\u001b[1m└ \u001b[22m\u001b[39m\u001b[90m@ SciMLBase ~/.julia/packages/SciMLBase/hJh6T/src/integrator_interface.jl:623\u001b[39m\n",
      "\u001b[33m\u001b[1m┌ \u001b[22m\u001b[39m\u001b[33m\u001b[1mWarning: \u001b[22m\u001b[39mAt t=370.797528052098, dt was forced below floating point epsilon 5.684341886080802e-14, and step error estimate = 1.117456065149402. Aborting. There is either an error in your model specification or the true solution is unstable (or the true solution can not be represented in the precision of Float64).\n",
      "\u001b[33m\u001b[1m└ \u001b[22m\u001b[39m\u001b[90m@ SciMLBase ~/.julia/packages/SciMLBase/hJh6T/src/integrator_interface.jl:623\u001b[39m\n",
      "\u001b[33m\u001b[1m┌ \u001b[22m\u001b[39m\u001b[33m\u001b[1mWarning: \u001b[22m\u001b[39mAt t=265.36641887088956, dt was forced below floating point epsilon 5.684341886080802e-14, and step error estimate = 1.117451982922532. Aborting. There is either an error in your model specification or the true solution is unstable (or the true solution can not be represented in the precision of Float64).\n",
      "\u001b[33m\u001b[1m└ \u001b[22m\u001b[39m\u001b[90m@ SciMLBase ~/.julia/packages/SciMLBase/hJh6T/src/integrator_interface.jl:623\u001b[39m\n",
      "\u001b[33m\u001b[1m┌ \u001b[22m\u001b[39m\u001b[33m\u001b[1mWarning: \u001b[22m\u001b[39mAt t=593.5935587806842, dt was forced below floating point epsilon 1.1368683772161603e-13, and step error estimate = 1.1174371286219316. Aborting. There is either an error in your model specification or the true solution is unstable (or the true solution can not be represented in the precision of Float64).\n",
      "\u001b[33m\u001b[1m└ \u001b[22m\u001b[39m\u001b[90m@ SciMLBase ~/.julia/packages/SciMLBase/hJh6T/src/integrator_interface.jl:623\u001b[39m\n",
      "\u001b[33m\u001b[1m┌ \u001b[22m\u001b[39m\u001b[33m\u001b[1mWarning: \u001b[22m\u001b[39mAt t=419.8405678641984, dt was forced below floating point epsilon 5.684341886080802e-14, and step error estimate = 1.1174495122456563. Aborting. There is either an error in your model specification or the true solution is unstable (or the true solution can not be represented in the precision of Float64).\n",
      "\u001b[33m\u001b[1m└ \u001b[22m\u001b[39m\u001b[90m@ SciMLBase ~/.julia/packages/SciMLBase/hJh6T/src/integrator_interface.jl:623\u001b[39m\n",
      "\u001b[33m\u001b[1m┌ \u001b[22m\u001b[39m\u001b[33m\u001b[1mWarning: \u001b[22m\u001b[39mAt t=371.66734813789856, dt was forced below floating point epsilon 5.684341886080802e-14, and step error estimate = 1.1174338986135246. Aborting. There is either an error in your model specification or the true solution is unstable (or the true solution can not be represented in the precision of Float64).\n",
      "\u001b[33m\u001b[1m└ \u001b[22m\u001b[39m\u001b[90m@ SciMLBase ~/.julia/packages/SciMLBase/hJh6T/src/integrator_interface.jl:623\u001b[39m\n",
      "\u001b[33m\u001b[1m┌ \u001b[22m\u001b[39m\u001b[33m\u001b[1mWarning: \u001b[22m\u001b[39mAt t=367.4978935052547, dt was forced below floating point epsilon 5.684341886080802e-14, and step error estimate = 1.1174404597666079. Aborting. There is either an error in your model specification or the true solution is unstable (or the true solution can not be represented in the precision of Float64).\n",
      "\u001b[33m\u001b[1m└ \u001b[22m\u001b[39m\u001b[90m@ SciMLBase ~/.julia/packages/SciMLBase/hJh6T/src/integrator_interface.jl:623\u001b[39m\n",
      "\u001b[33m\u001b[1m┌ \u001b[22m\u001b[39m\u001b[33m\u001b[1mWarning: \u001b[22m\u001b[39mAt t=267.8488207359436, dt was forced below floating point epsilon 5.684341886080802e-14, and step error estimate = 1.1174328496190373. Aborting. There is either an error in your model specification or the true solution is unstable (or the true solution can not be represented in the precision of Float64).\n",
      "\u001b[33m\u001b[1m└ \u001b[22m\u001b[39m\u001b[90m@ SciMLBase ~/.julia/packages/SciMLBase/hJh6T/src/integrator_interface.jl:623\u001b[39m\n",
      "\u001b[33m\u001b[1m┌ \u001b[22m\u001b[39m\u001b[33m\u001b[1mWarning: \u001b[22m\u001b[39mAt t=432.19656814677273, dt was forced below floating point epsilon 5.684341886080802e-14, and step error estimate = 1.1174926089064963. Aborting. There is either an error in your model specification or the true solution is unstable (or the true solution can not be represented in the precision of Float64).\n",
      "\u001b[33m\u001b[1m└ \u001b[22m\u001b[39m\u001b[90m@ SciMLBase ~/.julia/packages/SciMLBase/hJh6T/src/integrator_interface.jl:623\u001b[39m\n",
      "\u001b[33m\u001b[1m┌ \u001b[22m\u001b[39m\u001b[33m\u001b[1mWarning: \u001b[22m\u001b[39mAt t=417.2230147298477, dt was forced below floating point epsilon 5.684341886080802e-14, and step error estimate = 1.1175236302525358. Aborting. There is either an error in your model specification or the true solution is unstable (or the true solution can not be represented in the precision of Float64).\n",
      "\u001b[33m\u001b[1m└ \u001b[22m\u001b[39m\u001b[90m@ SciMLBase ~/.julia/packages/SciMLBase/hJh6T/src/integrator_interface.jl:623\u001b[39m\n",
      "\u001b[33m\u001b[1m┌ \u001b[22m\u001b[39m\u001b[33m\u001b[1mWarning: \u001b[22m\u001b[39mAt t=124.82054784166844, dt was forced below floating point epsilon 1.4210854715202004e-14, and step error estimate = 1.117432952361895. Aborting. There is either an error in your model specification or the true solution is unstable (or the true solution can not be represented in the precision of Float64).\n",
      "\u001b[33m\u001b[1m└ \u001b[22m\u001b[39m\u001b[90m@ SciMLBase ~/.julia/packages/SciMLBase/hJh6T/src/integrator_interface.jl:623\u001b[39m\n",
      "\u001b[33m\u001b[1m┌ \u001b[22m\u001b[39m\u001b[33m\u001b[1mWarning: \u001b[22m\u001b[39mAt t=273.74410959570315, dt was forced below floating point epsilon 5.684341886080802e-14, and step error estimate = 1.1174429787526017. Aborting. There is either an error in your model specification or the true solution is unstable (or the true solution can not be represented in the precision of Float64).\n",
      "\u001b[33m\u001b[1m└ \u001b[22m\u001b[39m\u001b[90m@ SciMLBase ~/.julia/packages/SciMLBase/hJh6T/src/integrator_interface.jl:623\u001b[39m\n",
      "\u001b[33m\u001b[1m┌ \u001b[22m\u001b[39m\u001b[33m\u001b[1mWarning: \u001b[22m\u001b[39mAt t=245.19172620566127, dt was forced below floating point epsilon 2.842170943040401e-14, and step error estimate = 1.1174438369530557. Aborting. There is either an error in your model specification or the true solution is unstable (or the true solution can not be represented in the precision of Float64).\n",
      "\u001b[33m\u001b[1m└ \u001b[22m\u001b[39m\u001b[90m@ SciMLBase ~/.julia/packages/SciMLBase/hJh6T/src/integrator_interface.jl:623\u001b[39m\n",
      "\u001b[33m\u001b[1m┌ \u001b[22m\u001b[39m\u001b[33m\u001b[1mWarning: \u001b[22m\u001b[39mAt t=202.9646430531554, dt was forced below floating point epsilon 2.842170943040401e-14, and step error estimate = 1.1174358171673804. Aborting. There is either an error in your model specification or the true solution is unstable (or the true solution can not be represented in the precision of Float64).\n",
      "\u001b[33m\u001b[1m└ \u001b[22m\u001b[39m\u001b[90m@ SciMLBase ~/.julia/packages/SciMLBase/hJh6T/src/integrator_interface.jl:623\u001b[39m\n",
      "\u001b[33m\u001b[1m┌ \u001b[22m\u001b[39m\u001b[33m\u001b[1mWarning: \u001b[22m\u001b[39mAt t=144.14169132086224, dt was forced below floating point epsilon 2.842170943040401e-14, and step error estimate = 1.1174402269449923. Aborting. There is either an error in your model specification or the true solution is unstable (or the true solution can not be represented in the precision of Float64).\n",
      "\u001b[33m\u001b[1m└ \u001b[22m\u001b[39m\u001b[90m@ SciMLBase ~/.julia/packages/SciMLBase/hJh6T/src/integrator_interface.jl:623\u001b[39m\n",
      "\u001b[33m\u001b[1m┌ \u001b[22m\u001b[39m\u001b[33m\u001b[1mWarning: \u001b[22m\u001b[39mAt t=259.01266493122523, dt was forced below floating point epsilon 5.684341886080802e-14, and step error estimate = 1.117441160245621. Aborting. There is either an error in your model specification or the true solution is unstable (or the true solution can not be represented in the precision of Float64).\n",
      "\u001b[33m\u001b[1m└ \u001b[22m\u001b[39m\u001b[90m@ SciMLBase ~/.julia/packages/SciMLBase/hJh6T/src/integrator_interface.jl:623\u001b[39m\n",
      "\u001b[33m\u001b[1m┌ \u001b[22m\u001b[39m\u001b[33m\u001b[1mWarning: \u001b[22m\u001b[39mAt t=227.8745770364316, dt was forced below floating point epsilon 2.842170943040401e-14, and step error estimate = 1.117434414843948. Aborting. There is either an error in your model specification or the true solution is unstable (or the true solution can not be represented in the precision of Float64).\n",
      "\u001b[33m\u001b[1m└ \u001b[22m\u001b[39m\u001b[90m@ SciMLBase ~/.julia/packages/SciMLBase/hJh6T/src/integrator_interface.jl:623\u001b[39m\n",
      "\u001b[33m\u001b[1m┌ \u001b[22m\u001b[39m\u001b[33m\u001b[1mWarning: \u001b[22m\u001b[39mAt t=153.80343471906406, dt was forced below floating point epsilon 2.842170943040401e-14, and step error estimate = 1.1174338923510354. Aborting. There is either an error in your model specification or the true solution is unstable (or the true solution can not be represented in the precision of Float64).\n",
      "\u001b[33m\u001b[1m└ \u001b[22m\u001b[39m\u001b[90m@ SciMLBase ~/.julia/packages/SciMLBase/hJh6T/src/integrator_interface.jl:623\u001b[39m\n",
      "\u001b[33m\u001b[1m┌ \u001b[22m\u001b[39m\u001b[33m\u001b[1mWarning: \u001b[22m\u001b[39mAt t=171.6747395587346, dt was forced below floating point epsilon 2.842170943040401e-14, and step error estimate = 1.1174456728526638. Aborting. There is either an error in your model specification or the true solution is unstable (or the true solution can not be represented in the precision of Float64).\n",
      "\u001b[33m\u001b[1m└ \u001b[22m\u001b[39m\u001b[90m@ SciMLBase ~/.julia/packages/SciMLBase/hJh6T/src/integrator_interface.jl:623\u001b[39m\n",
      "\u001b[33m\u001b[1m┌ \u001b[22m\u001b[39m\u001b[33m\u001b[1mWarning: \u001b[22m\u001b[39mAt t=457.59644202973556, dt was forced below floating point epsilon 5.684341886080802e-14, and step error estimate = 1.1174491154800485. Aborting. There is either an error in your model specification or the true solution is unstable (or the true solution can not be represented in the precision of Float64).\n",
      "\u001b[33m\u001b[1m└ \u001b[22m\u001b[39m\u001b[90m@ SciMLBase ~/.julia/packages/SciMLBase/hJh6T/src/integrator_interface.jl:623\u001b[39m\n",
      "\u001b[33m\u001b[1m┌ \u001b[22m\u001b[39m\u001b[33m\u001b[1mWarning: \u001b[22m\u001b[39mAt t=334.57160966925875, dt was forced below floating point epsilon 5.684341886080802e-14, and step error estimate = 1.117444763401502. Aborting. There is either an error in your model specification or the true solution is unstable (or the true solution can not be represented in the precision of Float64).\n",
      "\u001b[33m\u001b[1m└ \u001b[22m\u001b[39m\u001b[90m@ SciMLBase ~/.julia/packages/SciMLBase/hJh6T/src/integrator_interface.jl:623\u001b[39m\n",
      "\u001b[33m\u001b[1m┌ \u001b[22m\u001b[39m\u001b[33m\u001b[1mWarning: \u001b[22m\u001b[39mAt t=161.10958267348983, dt was forced below floating point epsilon 2.842170943040401e-14, and step error estimate = 1.1174334746821375. Aborting. There is either an error in your model specification or the true solution is unstable (or the true solution can not be represented in the precision of Float64).\n",
      "\u001b[33m\u001b[1m└ \u001b[22m\u001b[39m\u001b[90m@ SciMLBase ~/.julia/packages/SciMLBase/hJh6T/src/integrator_interface.jl:623\u001b[39m\n",
      "\u001b[33m\u001b[1m┌ \u001b[22m\u001b[39m\u001b[33m\u001b[1mWarning: \u001b[22m\u001b[39mAt t=377.4736376292008, dt was forced below floating point epsilon 5.684341886080802e-14, and step error estimate = 1.1174328700024807. Aborting. There is either an error in your model specification or the true solution is unstable (or the true solution can not be represented in the precision of Float64).\n",
      "\u001b[33m\u001b[1m└ \u001b[22m\u001b[39m\u001b[90m@ SciMLBase ~/.julia/packages/SciMLBase/hJh6T/src/integrator_interface.jl:623\u001b[39m\n",
      "\u001b[33m\u001b[1m┌ \u001b[22m\u001b[39m\u001b[33m\u001b[1mWarning: \u001b[22m\u001b[39mAt t=241.9213569248001, dt was forced below floating point epsilon 2.842170943040401e-14, and step error estimate = 1.1174354601091256. Aborting. There is either an error in your model specification or the true solution is unstable (or the true solution can not be represented in the precision of Float64).\n",
      "\u001b[33m\u001b[1m└ \u001b[22m\u001b[39m\u001b[90m@ SciMLBase ~/.julia/packages/SciMLBase/hJh6T/src/integrator_interface.jl:623\u001b[39m\n",
      "\u001b[33m\u001b[1m┌ \u001b[22m\u001b[39m\u001b[33m\u001b[1mWarning: \u001b[22m\u001b[39mAt t=236.29551373665217, dt was forced below floating point epsilon 2.842170943040401e-14, and step error estimate = 1.117433803287898. Aborting. There is either an error in your model specification or the true solution is unstable (or the true solution can not be represented in the precision of Float64).\n",
      "\u001b[33m\u001b[1m└ \u001b[22m\u001b[39m\u001b[90m@ SciMLBase ~/.julia/packages/SciMLBase/hJh6T/src/integrator_interface.jl:623\u001b[39m\n",
      "\u001b[33m\u001b[1m┌ \u001b[22m\u001b[39m\u001b[33m\u001b[1mWarning: \u001b[22m\u001b[39mAt t=495.19874083388584, dt was forced below floating point epsilon 5.684341886080802e-14, and step error estimate = 1.1174425228887679. Aborting. There is either an error in your model specification or the true solution is unstable (or the true solution can not be represented in the precision of Float64).\n",
      "\u001b[33m\u001b[1m└ \u001b[22m\u001b[39m\u001b[90m@ SciMLBase ~/.julia/packages/SciMLBase/hJh6T/src/integrator_interface.jl:623\u001b[39m\n",
      "\u001b[33m\u001b[1m┌ \u001b[22m\u001b[39m\u001b[33m\u001b[1mWarning: \u001b[22m\u001b[39mAt t=152.1360061458843, dt was forced below floating point epsilon 2.842170943040401e-14, and step error estimate = 1.117433116253769. Aborting. There is either an error in your model specification or the true solution is unstable (or the true solution can not be represented in the precision of Float64).\n",
      "\u001b[33m\u001b[1m└ \u001b[22m\u001b[39m\u001b[90m@ SciMLBase ~/.julia/packages/SciMLBase/hJh6T/src/integrator_interface.jl:623\u001b[39m\n",
      "\u001b[33m\u001b[1m┌ \u001b[22m\u001b[39m\u001b[33m\u001b[1mWarning: \u001b[22m\u001b[39mAt t=181.20741791461168, dt was forced below floating point epsilon 2.842170943040401e-14, and step error estimate = 1.117433120082031. Aborting. There is either an error in your model specification or the true solution is unstable (or the true solution can not be represented in the precision of Float64).\n",
      "\u001b[33m\u001b[1m└ \u001b[22m\u001b[39m\u001b[90m@ SciMLBase ~/.julia/packages/SciMLBase/hJh6T/src/integrator_interface.jl:623\u001b[39m\n",
      "\u001b[33m\u001b[1m┌ \u001b[22m\u001b[39m\u001b[33m\u001b[1mWarning: \u001b[22m\u001b[39mAt t=316.02304928770155, dt was forced below floating point epsilon 5.684341886080802e-14, and step error estimate = 1.1174378639524774. Aborting. There is either an error in your model specification or the true solution is unstable (or the true solution can not be represented in the precision of Float64).\n",
      "\u001b[33m\u001b[1m└ \u001b[22m\u001b[39m\u001b[90m@ SciMLBase ~/.julia/packages/SciMLBase/hJh6T/src/integrator_interface.jl:623\u001b[39m\n",
      "\u001b[33m\u001b[1m┌ \u001b[22m\u001b[39m\u001b[33m\u001b[1mWarning: \u001b[22m\u001b[39mAt t=512.9763469997274, dt was forced below floating point epsilon 1.1368683772161603e-13, and step error estimate = 1.1174380031642706. Aborting. There is either an error in your model specification or the true solution is unstable (or the true solution can not be represented in the precision of Float64).\n",
      "\u001b[33m\u001b[1m└ \u001b[22m\u001b[39m\u001b[90m@ SciMLBase ~/.julia/packages/SciMLBase/hJh6T/src/integrator_interface.jl:623\u001b[39m\n",
      "\u001b[33m\u001b[1m┌ \u001b[22m\u001b[39m\u001b[33m\u001b[1mWarning: \u001b[22m\u001b[39mAt t=152.46043239073143, dt was forced below floating point epsilon 2.842170943040401e-14, and step error estimate = 1.1174332652431023. Aborting. There is either an error in your model specification or the true solution is unstable (or the true solution can not be represented in the precision of Float64).\n",
      "\u001b[33m\u001b[1m└ \u001b[22m\u001b[39m\u001b[90m@ SciMLBase ~/.julia/packages/SciMLBase/hJh6T/src/integrator_interface.jl:623\u001b[39m\n",
      "\u001b[33m\u001b[1m┌ \u001b[22m\u001b[39m\u001b[33m\u001b[1mWarning: \u001b[22m\u001b[39mAt t=160.99002251648557, dt was forced below floating point epsilon 2.842170943040401e-14, and step error estimate = 1.117436271141035. Aborting. There is either an error in your model specification or the true solution is unstable (or the true solution can not be represented in the precision of Float64).\n",
      "\u001b[33m\u001b[1m└ \u001b[22m\u001b[39m\u001b[90m@ SciMLBase ~/.julia/packages/SciMLBase/hJh6T/src/integrator_interface.jl:623\u001b[39m\n",
      "\u001b[33m\u001b[1m┌ \u001b[22m\u001b[39m\u001b[33m\u001b[1mWarning: \u001b[22m\u001b[39mAt t=302.0434647095088, dt was forced below floating point epsilon 5.684341886080802e-14, and step error estimate = 1.1174873497881495. Aborting. There is either an error in your model specification or the true solution is unstable (or the true solution can not be represented in the precision of Float64).\n",
      "\u001b[33m\u001b[1m└ \u001b[22m\u001b[39m\u001b[90m@ SciMLBase ~/.julia/packages/SciMLBase/hJh6T/src/integrator_interface.jl:623\u001b[39m\n",
      "\u001b[33m\u001b[1m┌ \u001b[22m\u001b[39m\u001b[33m\u001b[1mWarning: \u001b[22m\u001b[39mAt t=186.24977703047702, dt was forced below floating point epsilon 2.842170943040401e-14, and step error estimate = 1.1174383176266545. Aborting. There is either an error in your model specification or the true solution is unstable (or the true solution can not be represented in the precision of Float64).\n",
      "\u001b[33m\u001b[1m└ \u001b[22m\u001b[39m\u001b[90m@ SciMLBase ~/.julia/packages/SciMLBase/hJh6T/src/integrator_interface.jl:623\u001b[39m\n",
      "\u001b[33m\u001b[1m┌ \u001b[22m\u001b[39m\u001b[33m\u001b[1mWarning: \u001b[22m\u001b[39mAt t=233.5050751228191, dt was forced below floating point epsilon 2.842170943040401e-14, and step error estimate = 1.1174343823980215. Aborting. There is either an error in your model specification or the true solution is unstable (or the true solution can not be represented in the precision of Float64).\n",
      "\u001b[33m\u001b[1m└ \u001b[22m\u001b[39m\u001b[90m@ SciMLBase ~/.julia/packages/SciMLBase/hJh6T/src/integrator_interface.jl:623\u001b[39m\n",
      "\u001b[33m\u001b[1m┌ \u001b[22m\u001b[39m\u001b[33m\u001b[1mWarning: \u001b[22m\u001b[39mAt t=424.08896388166227, dt was forced below floating point epsilon 5.684341886080802e-14, and step error estimate = 1.1174351780579943. Aborting. There is either an error in your model specification or the true solution is unstable (or the true solution can not be represented in the precision of Float64).\n",
      "\u001b[33m\u001b[1m└ \u001b[22m\u001b[39m\u001b[90m@ SciMLBase ~/.julia/packages/SciMLBase/hJh6T/src/integrator_interface.jl:623\u001b[39m\n",
      "\u001b[33m\u001b[1m┌ \u001b[22m\u001b[39m\u001b[33m\u001b[1mWarning: \u001b[22m\u001b[39mAt t=424.4302784473532, dt was forced below floating point epsilon 5.684341886080802e-14, and step error estimate = 1.117434469537856. Aborting. There is either an error in your model specification or the true solution is unstable (or the true solution can not be represented in the precision of Float64).\n",
      "\u001b[33m\u001b[1m└ \u001b[22m\u001b[39m\u001b[90m@ SciMLBase ~/.julia/packages/SciMLBase/hJh6T/src/integrator_interface.jl:623\u001b[39m\n"
     ]
    }
   ],
   "source": [
    "start = 31\n",
    "n_subchains = 40\n",
    "approach = \"regularized\"\n",
    "for i in start:n_subchains\n",
    "    affine_invariant_mcmc(n_ensemble, n_walkers, n_iterations, target_probability[approach], i, approach)\n",
    "end\n",
    "\n",
    "approach = \"unregularized\"\n",
    "for i in start:n_subchains\n",
    "    affine_invariant_mcmc(n_ensemble, n_walkers, n_iterations, target_probability[approach], i, approach)\n",
    "end\n",
    "\n",
    "approach = \"regularized_theoretical\"\n",
    "for i in start:n_subchains\n",
    "    affine_invariant_mcmc(n_ensemble, n_walkers, n_iterations, target_probability[approach], i, approach)\n",
    "end"
   ]
  }
 ],
 "metadata": {
  "kernelspec": {
   "display_name": "Julia(ml_informed_binding_affinity_10_threads) 1.11.1",
   "language": "julia",
   "name": "julia_ml_informed_binding_affinity_10_threads_-1.11"
  },
  "language_info": {
   "file_extension": ".jl",
   "mimetype": "application/julia",
   "name": "julia",
   "version": "1.11.1"
  },
  "orig_nbformat": 4
 },
 "nbformat": 4,
 "nbformat_minor": 2
}
