{
 "cells": [
  {
   "cell_type": "code",
   "execution_count": 9,
   "metadata": {},
   "outputs": [],
   "source": [
    "using Serialization, Turing\n",
    "include(\"ode_problem.jl\");\n",
    "include(\"target_probability.jl\");\n",
    "include(\"bayesian_inference.jl\");"
   ]
  },
  {
   "attachments": {},
   "cell_type": "markdown",
   "metadata": {},
   "source": [
    "### Define Target Distribution for Sampling"
   ]
  },
  {
   "cell_type": "code",
   "execution_count": 10,
   "metadata": {},
   "outputs": [],
   "source": [
    "#first input we need are data points and each point's associated standard deviation\n",
    "experiment_timecourse = deserialize(\"outputs/000_processed_active_G_timecourse.dict\")\n",
    "experiment_dose_response = deserialize(\"outputs/000_processed_active_G_dose_response.dict\");\n",
    "#reshape for input to target probability \n",
    "data_points = vcat(experiment_timecourse[\"response\"], experiment_dose_response[\"response\"])\n",
    "std_dev = vcat(fill(experiment_timecourse[\"standard_error\"], length(experiment_timecourse[\"response\"])), \n",
    "fill(experiment_dose_response[\"standard_error\"], length(experiment_dose_response[\"response\"])))\n",
    "\n",
    "#next input we need is an ode problem\n",
    "odesys, u0, tspan, p = return_ode_problem_default_inputs()\n",
    "odeprob = DifferentialEquations.ODEProblem(odesys, u0, tspan, p);\n",
    "\n",
    "#also need regularization hyperparameters\n",
    "#note - must convert from M to molecules to match units\n",
    "avogadros_constant = 6.022e23 \n",
    "regularization_hyperparams = Dict(\"mean\" => log10(1.01e-7*avogadros_constant), \"std_dev\" => 0.8, \"lambda\" => 1)\n",
    "regularization_hyperparams_theoretical = Dict(\"mean\" => log10(5.0e-9*avogadros_constant), \"std_dev\" => 1, \"lambda\" => 1)\n",
    "\n",
    "#and ode solver inputs for both timecourse simulation and dose response simulation\n",
    "solver_inputs_timecourse = return_ode_problem_solver_default_inputs(\"timecourse\")\n",
    "solver_inputs_dose_response = return_ode_problem_solver_default_inputs(\"dose_response\")\n",
    "\n",
    "#finally, ligand concentrations for dose respones simulation and normalization\n",
    "ligand_doses = experiment_dose_response[\"ligand_stimulation (molecules)\"];\n",
    "normalization_dose = experiment_dose_response[\"normalize_to_response_at_dose\"];"
   ]
  },
  {
   "cell_type": "code",
   "execution_count": 11,
   "metadata": {},
   "outputs": [],
   "source": [
    "#target probability definition\n",
    "target_distribution_regularized = logprob_regularized(data_points, odeprob, std_dev, regularization_hyperparams, solver_inputs_timecourse, \n",
    "solver_inputs_dose_response, ligand_doses, normalization_dose);\n",
    "\n",
    "target_distribution_regularized_theoretical = logprob_regularized(data_points, odeprob, std_dev, regularization_hyperparams_theoretical, solver_inputs_timecourse, \n",
    "solver_inputs_dose_response, ligand_doses, normalization_dose);\n",
    "\n",
    "target_distribution_unregularized = logprob_unregularized(data_points, odeprob, std_dev, solver_inputs_timecourse, \n",
    "solver_inputs_dose_response, ligand_doses, normalization_dose);"
   ]
  },
  {
   "attachments": {},
   "cell_type": "markdown",
   "metadata": {},
   "source": [
    "### Run Affine Invariant Sampler"
   ]
  },
  {
   "cell_type": "code",
   "execution_count": 12,
   "metadata": {},
   "outputs": [
    {
     "ename": "LoadError",
     "evalue": "SystemError: opening file \"outputs/posterior_samples_unregularized_ensemble1_walkers100_iter100_9.jls\": No such file or directory",
     "output_type": "error",
     "traceback": [
      "SystemError: opening file \"outputs/posterior_samples_unregularized_ensemble1_walkers100_iter100_9.jls\": No such file or directory",
      "",
      "Stacktrace:",
      " [1] systemerror(p::String, errno::Int32; extrainfo::Nothing)",
      "   @ Base ./error.jl:176",
      " [2] systemerror",
      "   @ ./error.jl:175 [inlined]",
      " [3] open(fname::String; lock::Bool, read::Nothing, write::Nothing, create::Nothing, truncate::Nothing, append::Nothing)",
      "   @ Base ./iostream.jl:295",
      " [4] open",
      "   @ ./iostream.jl:277 [inlined]",
      " [5] open(f::typeof(deserialize), args::String; kwargs::@Kwargs{})",
      "   @ Base ./io.jl:408",
      " [6] open",
      "   @ ./io.jl:407 [inlined]",
      " [7] deserialize",
      "   @ ~/.julia/juliaup/julia-1.11.1+0.aarch64.apple.darwin14/share/julia/stdlib/v1.11/Serialization/src/Serialization.jl:841 [inlined]",
      " [8] affine_invariant_mcmc(n_ensemble::Int64, n_walkers::Int64, n_iterations::Int64, target_probability::Model{typeof(logprob_unregularized), (:data, :odeproblem, :σ, :odesolver_timecourse, :odesolver_dose_response, :ligand_dose, :normalization_dose), (), (), Tuple{Vector{Float64}, ODEProblem{Vector{Float64}, Tuple{Int64, Int64}, true, MTKParameters{Vector{Float64}, Tuple{}, Tuple{}, Tuple{}}, ODEFunction{true, SciMLBase.AutoSpecialize, ModelingToolkit.var\"#f#911\"{RuntimeGeneratedFunctions.RuntimeGeneratedFunction{(:ˍ₋arg1, :ˍ₋arg2, :t), ModelingToolkit.var\"#_RGF_ModTag\", ModelingToolkit.var\"#_RGF_ModTag\", (0xce630a4b, 0x94b5b225, 0x19373ff7, 0x40b7ef74, 0x79c28da1), Nothing}, RuntimeGeneratedFunctions.RuntimeGeneratedFunction{(:ˍ₋out, :ˍ₋arg1, :ˍ₋arg2, :t), ModelingToolkit.var\"#_RGF_ModTag\", ModelingToolkit.var\"#_RGF_ModTag\", (0x55ee22da, 0xe5b1fa5e, 0xeb0c1b7b, 0xa1f8429d, 0x44e05af1), Nothing}}, UniformScaling{Bool}, Nothing, Nothing, Nothing, Nothing, Nothing, Nothing, Nothing, Nothing, Nothing, Nothing, Nothing, ModelingToolkit.ObservedFunctionCache{ODESystem}, Nothing, ODESystem, Nothing, Nothing, Nothing, Nothing, Nothing}, @Kwargs{}, SciMLBase.StandardODEProblem}, Vector{Float64}, Dict{String, Any}, Dict{String, Any}, Vector{Float64}, Float64}, Tuple{}, DefaultContext}, sub_chain::Int64, test_case::String)",
      "   @ Main ~/Documents/ml_informed_binding_affinity/yi_gpcr_model/bayesian_inference.jl:160",
      " [9] top-level scope",
      "   @ ./In[12]:18"
     ]
    }
   ],
   "source": [
    "#affine invariant sampler parameters\n",
    "n_ensemble = 1\n",
    "n_walkers = 100\n",
    "n_iterations = 100\n",
    "\n",
    "#target probability\n",
    "target_probability = Dict(\"unregularized\"=>target_distribution_unregularized, \n",
    "\"regularized\"=>target_distribution_regularized, \"regularized_theoretical\"=>target_distribution_regularized_theoretical)\n",
    "\n",
    "#initial run for both regularized and unregularized \n",
    "for i in [\"unregularized\"]\n",
    "    affine_invariant_mcmc_firstrun(n_ensemble, n_walkers, n_iterations, target_probability[i], i)\n",
    "end\n",
    "\n",
    "#generate 50,000 samples per walker for all target probabilities\n",
    "n_subchains = 10\n",
    "for i in [\"unregularized\", \"regularized_theoretical\",\"regularized\"]\n",
    "    affine_invariant_mcmc(n_ensemble, n_walkers, n_iterations, target_probability[i], n_subchains, i)\n",
    "end"
   ]
  }
 ],
 "metadata": {
  "kernelspec": {
   "display_name": "Julia(ml_informed_binding_affinity) 1.11.1",
   "language": "julia",
   "name": "julia_ml_informed_binding_affinity_-1.11"
  },
  "language_info": {
   "file_extension": ".jl",
   "mimetype": "application/julia",
   "name": "julia",
   "version": "1.11.1"
  },
  "orig_nbformat": 4
 },
 "nbformat": 4,
 "nbformat_minor": 2
}
