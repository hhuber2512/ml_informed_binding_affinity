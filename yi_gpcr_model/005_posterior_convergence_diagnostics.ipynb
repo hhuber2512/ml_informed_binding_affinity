{
 "cells": [
  {
   "cell_type": "code",
   "execution_count": 1,
   "metadata": {},
   "outputs": [
    {
     "name": "stderr",
     "output_type": "stream",
     "text": [
      "\u001b[36m\u001b[1m[ \u001b[22m\u001b[39m\u001b[36m\u001b[1mInfo: \u001b[22m\u001b[39mPrecompiling Plots [91a5bcdd-55d7-5caf-9e0b-520d859cae80] (cache misses: dep missing source (2))\n",
      "\u001b[36m\u001b[1m[ \u001b[22m\u001b[39m\u001b[36m\u001b[1mInfo: \u001b[22m\u001b[39mPrecompiling IJuliaExt [2f4121a4-3b3a-5ce6-9c5e-1f2673ce168a] (cache misses: wrong dep version loaded (4))\n",
      "\u001b[36m\u001b[1m[ \u001b[22m\u001b[39m\u001b[36m\u001b[1mInfo: \u001b[22m\u001b[39mPrecompiling SpecialFunctionsExt [997ecda8-951a-5f50-90ea-61382e97704b] (cache misses: wrong dep version loaded (2))\n"
     ]
    }
   ],
   "source": [
    "using Serialization, Plots\n",
    "include(\"convergence_diagnostics.jl\");"
   ]
  },
  {
   "attachments": {},
   "cell_type": "markdown",
   "metadata": {},
   "source": [
    "Calculate r-hat and ess"
   ]
  },
  {
   "cell_type": "code",
   "execution_count": 2,
   "metadata": {},
   "outputs": [],
   "source": [
    "n_points = 10\n",
    "approach = \"regularized\"\n",
    "file_name = \"004_posterior_samples_$(approach)_ensemble1_walkers1000_iter30000_thinned1.jls\"\n",
    "n_ensemble = 1 \n",
    "mcmc_chains = deserialize(\"outputs/$(file_name)\")\n",
    "save_rhat_ess_iteration(mcmc_chains, n_points, approach, n_ensemble)"
   ]
  },
  {
   "attachments": {},
   "cell_type": "markdown",
   "metadata": {},
   "source": [
    "Plot r-hat and ess"
   ]
  },
  {
   "cell_type": "code",
   "execution_count": 3,
   "metadata": {},
   "outputs": [],
   "source": [
    "n_ensemble = 1\n",
    "n_walkers = 1000\n",
    "convergence_diagnostics_unregularized = deserialize(\"outputs/005_ess_rhats_unregularized_ensemble1.jls\")\n",
    "convergence_diagnostics_regularized = deserialize(\"outputs/005_ess_rhats_regularized_ensemble1.jls\")\n",
    "p_rhats = plot_rhats([convergence_diagnostics_unregularized], [convergence_diagnostics_regularized], n_ensemble)\n",
    "p_ess = plot_ess([convergence_diagnostics_unregularized], [convergence_diagnostics_regularized], n_ensemble, n_walkers)\n",
    "savefig(p_rhats, \"outputs/005_plot_rhat.png\")\n",
    "savefig(p_ess, \"outputs/005_plot_ess.png\");"
   ]
  },
  {
   "attachments": {},
   "cell_type": "markdown",
   "metadata": {},
   "source": [
    "Plot trace of a few parameter/chain combinations, to ensure Algorithm Running OK"
   ]
  },
  {
   "cell_type": "code",
   "execution_count": 4,
   "metadata": {},
   "outputs": [],
   "source": [
    "approach = \"regularized\"\n",
    "file_name = \"004_posterior_samples_$(approach)_ensemble1_walkers1000_iter30000_thinned1.jls\"\n",
    "parameter_string = [ \"k_1\", \"kinv\", \"k_2\", \"k_3\", \"k_4\", \"k_5\", \"k_6\", \"k_7\", \"G\"]\n",
    "parameter_index = 1\n",
    "chains = [2,54,137,234,345,467,525,678,723,839,990]\n",
    "mcmc_chain = Array(deserialize(\"outputs/$(file_name)\"), append_chains=false)\n",
    "p1 = plot(size=(1000,400))\n",
    "title!(\"$(parameter_string[parameter_index]) trace plot\")\n",
    "for i in 1:length(chains)\n",
    "    samples = mcmc_chain[chains[i]][:,parameter_index]\n",
    "    plot!(1:length(samples), samples)\n",
    "end\n",
    "savefig(p1, \"outputs/005_plot_trace_$(parameter_string[parameter_index]).png\");"
   ]
  }
 ],
 "metadata": {
  "kernelspec": {
   "display_name": "Julia(ml_informed_binding_affinity_10_threads) 1.11.1",
   "language": "julia",
   "name": "julia_ml_informed_binding_affinity_10_threads_-1.11"
  },
  "language_info": {
   "file_extension": ".jl",
   "mimetype": "application/julia",
   "name": "julia",
   "version": "1.11.1"
  },
  "orig_nbformat": 4
 },
 "nbformat": 4,
 "nbformat_minor": 2
}
