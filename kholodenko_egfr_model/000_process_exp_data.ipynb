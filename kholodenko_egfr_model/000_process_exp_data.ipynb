{
 "cells": [
  {
   "cell_type": "code",
   "execution_count": 1,
   "metadata": {},
   "outputs": [],
   "source": [
    "using CSV, DataFrames, Serialization"
   ]
  },
  {
   "attachments": {},
   "cell_type": "markdown",
   "metadata": {},
   "source": [
    "### Extract Training Data from CSV\n",
    "This script extracts relevant inputs from the experimental data reported in Kholodenko et al. For example, it extracts what timepoints to save at for the timecourse simulation, then serializes the files. As another example, it extracts the ligand dose inputs (in nM).\n",
    "\n",
    "Outputs 8 dictionaries, one per experimental measurement, with the following entries:\n",
    "\n",
    "000_processed_grb_egfr_20.dict: <br>\n",
    "\n",
    "Dict{String, Any} with 4 entries: <br>\n",
    "  \"save_at\"                => [0, 15, 30, 45, 60, 120] <br>\n",
    "  \"reponse\"                => [0.0, 18.06, 15.79, 8.66, 6.44, 4.7] <br>\n",
    "  \"ligand_simulation (nM)\" => 20.0 <br>\n",
    "  \"average_error\"          => 5 <br>"
   ]
  },
  {
   "cell_type": "code",
   "execution_count": 4,
   "metadata": {},
   "outputs": [],
   "source": [
    "data_files = readdir(\"data\")\n",
    "sort_files = data_files .!= \".DS_Store\"\n",
    "data_files = sort(data_files[sort_files]) #sort to ensure consistent order\n",
    "sort_files = data_files .!= \"kholodenko1.xml\"\n",
    "data_files = sort(data_files[sort_files]) #sort to ensure consistent order\n",
    "data = [DataFrame(CSV.File(\"data/$(data_files[i])\")) for i in 1:length(data_files)]\n",
    "ligand_stimulation = [20,20,0.2,2,20,2,20,20] #consistent with sorted order of files\n",
    "my_keys = [\"save_at\", \"response\",\"ligand_simulation (nM)\", \"average_error\"]\n",
    "average_error = [2.5, 5, 1, 1, 5, 1, 1, 1] ##took average error per species\n",
    "my_values = [[data[i][!,\"x\"], data[i][!,\" y\"],ligand_stimulation[i], average_error[i]] for i in 1:length(data_files)]\n",
    "processed_dictionary = [Dict(my_keys .=> my_values[i]) for i in 1:length(data_files)]\n",
    "output_names = [replace(data_files[i], \".csv\" => \"\") for i in 1:length(data_files)]\n",
    "output_names = [\"000_processed_\" * output_names[i] * \".dict\" for i in 1:length(data_files)]\n",
    "[serialize(\"outputs/$(output_names[i])\", processed_dictionary[i]) for i in 1:length(data_files)];\n"
   ]
  }
 ],
 "metadata": {
  "kernelspec": {
   "display_name": "Julia(ml_informed_binding_affinity_10_threads) 1.11.1",
   "language": "julia",
   "name": "julia_ml_informed_binding_affinity_10_threads_-1.11"
  },
  "language_info": {
   "file_extension": ".jl",
   "mimetype": "application/julia",
   "name": "julia",
   "version": "1.11.1"
  },
  "orig_nbformat": 4
 },
 "nbformat": 4,
 "nbformat_minor": 2
}
