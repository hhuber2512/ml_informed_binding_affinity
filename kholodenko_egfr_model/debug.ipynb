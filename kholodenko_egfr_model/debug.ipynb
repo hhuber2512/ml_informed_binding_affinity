{
 "cells": [
  {
   "cell_type": "code",
   "execution_count": 44,
   "metadata": {},
   "outputs": [
    {
     "data": {
      "text/plain": [
       "return_ode_problem_solver_default_inputs"
      ]
     },
     "execution_count": 44,
     "metadata": {},
     "output_type": "execute_result"
    }
   ],
   "source": [
    "using Catalyst, DifferentialEquations, Plots, SBMLToolkit\n",
    "include(\"model.jl\")\n",
    "include(\"ode_problem.jl\")"
   ]
  },
  {
   "cell_type": "code",
   "execution_count": 45,
   "metadata": {},
   "outputs": [
    {
     "name": "stderr",
     "output_type": "stream",
     "text": [
      "\u001b[33m\u001b[1m┌ \u001b[22m\u001b[39m\u001b[33m\u001b[1mWarning: \u001b[22m\u001b[39mCannot separate bidirectional kineticLaw `(-k21b*ShG(t)) / default_compartment + (k21f*ShP(t)*Grb(t)) / (default_compartment^2)` to forward and reverse part. Setting forward to `(-k21b*ShG(t)) / default_compartment + (k21f*ShP(t)*Grb(t)) / (default_compartment^2)` and reverse to `0`. Stochastic simulations will be inexact.\n",
      "\u001b[33m\u001b[1m└ \u001b[22m\u001b[39m\u001b[90m@ SBMLToolkit ~/.julia/packages/SBMLToolkit/7C24E/src/reactions.jl:35\u001b[39m\n",
      "\u001b[33m\u001b[1m┌ \u001b[22m\u001b[39m\u001b[33m\u001b[1mWarning: \u001b[22m\u001b[39mCannot separate bidirectional kineticLaw `(V4*RP(t)) / ((K4 + RP(t) / default_compartment)*default_compartment)` to forward and reverse part. Setting forward to `(V4*RP(t)) / ((K4 + RP(t) / default_compartment)*default_compartment)` and reverse to `0`. Stochastic simulations will be inexact.\n",
      "\u001b[33m\u001b[1m└ \u001b[22m\u001b[39m\u001b[90m@ SBMLToolkit ~/.julia/packages/SBMLToolkit/7C24E/src/reactions.jl:35\u001b[39m\n",
      "\u001b[33m\u001b[1m┌ \u001b[22m\u001b[39m\u001b[33m\u001b[1mWarning: \u001b[22m\u001b[39mCannot separate bidirectional kineticLaw `(k20f*RShGS(t)) / default_compartment + (-k20b*RP(t)*ShGS(t)) / (default_compartment^2)` to forward and reverse part. Setting forward to `(k20f*RShGS(t)) / default_compartment + (-k20b*RP(t)*ShGS(t)) / (default_compartment^2)` and reverse to `0`. Stochastic simulations will be inexact.\n",
      "\u001b[33m\u001b[1m└ \u001b[22m\u001b[39m\u001b[90m@ SBMLToolkit ~/.julia/packages/SBMLToolkit/7C24E/src/reactions.jl:35\u001b[39m\n",
      "\u001b[33m\u001b[1m┌ \u001b[22m\u001b[39m\u001b[33m\u001b[1mWarning: \u001b[22m\u001b[39mCannot separate bidirectional kineticLaw `(-k13b*RSh(t)) / default_compartment + (k13f*RP(t)*Shc(t)) / (default_compartment^2)` to forward and reverse part. Setting forward to `(-k13b*RSh(t)) / default_compartment + (k13f*RP(t)*Shc(t)) / (default_compartment^2)` and reverse to `0`. Stochastic simulations will be inexact.\n",
      "\u001b[33m\u001b[1m└ \u001b[22m\u001b[39m\u001b[90m@ SBMLToolkit ~/.julia/packages/SBMLToolkit/7C24E/src/reactions.jl:35\u001b[39m\n",
      "\u001b[33m\u001b[1m┌ \u001b[22m\u001b[39m\u001b[33m\u001b[1mWarning: \u001b[22m\u001b[39mCannot separate bidirectional kineticLaw `(k12f*GS(t)) / default_compartment + (-k12b*SOS(t)*Grb(t)) / (default_compartment^2)` to forward and reverse part. Setting forward to `(k12f*GS(t)) / default_compartment + (-k12b*SOS(t)*Grb(t)) / (default_compartment^2)` and reverse to `0`. Stochastic simulations will be inexact.\n",
      "\u001b[33m\u001b[1m└ \u001b[22m\u001b[39m\u001b[90m@ SBMLToolkit ~/.julia/packages/SBMLToolkit/7C24E/src/reactions.jl:35\u001b[39m\n",
      "\u001b[33m\u001b[1m┌ \u001b[22m\u001b[39m\u001b[33m\u001b[1mWarning: \u001b[22m\u001b[39mCannot separate bidirectional kineticLaw `(k5f*RP(t)*PLCg(t)) / (default_compartment^2) + (-k5b*RPLCg(t)) / default_compartment` to forward and reverse part. Setting forward to `(k5f*RP(t)*PLCg(t)) / (default_compartment^2) + (-k5b*RPLCg(t)) / default_compartment` and reverse to `0`. Stochastic simulations will be inexact.\n",
      "\u001b[33m\u001b[1m└ \u001b[22m\u001b[39m\u001b[90m@ SBMLToolkit ~/.julia/packages/SBMLToolkit/7C24E/src/reactions.jl:35\u001b[39m\n",
      "\u001b[33m\u001b[1m┌ \u001b[22m\u001b[39m\u001b[33m\u001b[1mWarning: \u001b[22m\u001b[39mCannot separate bidirectional kineticLaw `(k19f*SOS(t)*RShG(t)) / (default_compartment^2) + (-k19b*RShGS(t)) / default_compartment` to forward and reverse part. Setting forward to `(k19f*SOS(t)*RShG(t)) / (default_compartment^2) + (-k19b*RShGS(t)) / default_compartment` and reverse to `0`. Stochastic simulations will be inexact.\n",
      "\u001b[33m\u001b[1m└ \u001b[22m\u001b[39m\u001b[90m@ SBMLToolkit ~/.julia/packages/SBMLToolkit/7C24E/src/reactions.jl:35\u001b[39m\n",
      "\u001b[33m\u001b[1m┌ \u001b[22m\u001b[39m\u001b[33m\u001b[1mWarning: \u001b[22m\u001b[39mCannot separate bidirectional kineticLaw `(k25f*PLCgP(t)) / default_compartment + (-k25b*PLCgl(t)) / default_compartment` to forward and reverse part. Setting forward to `(k25f*PLCgP(t)) / default_compartment + (-k25b*PLCgl(t)) / default_compartment` and reverse to `0`. Stochastic simulations will be inexact.\n",
      "\u001b[33m\u001b[1m└ \u001b[22m\u001b[39m\u001b[90m@ SBMLToolkit ~/.julia/packages/SBMLToolkit/7C24E/src/reactions.jl:35\u001b[39m\n",
      "\u001b[33m\u001b[1m┌ \u001b[22m\u001b[39m\u001b[33m\u001b[1mWarning: \u001b[22m\u001b[39mCannot separate bidirectional kineticLaw `(k23f*ShGS(t)) / default_compartment + (-k23b*ShP(t)*GS(t)) / (default_compartment^2)` to forward and reverse part. Setting forward to `(k23f*ShGS(t)) / default_compartment + (-k23b*ShP(t)*GS(t)) / (default_compartment^2)` and reverse to `0`. Stochastic simulations will be inexact.\n",
      "\u001b[33m\u001b[1m└ \u001b[22m\u001b[39m\u001b[90m@ SBMLToolkit ~/.julia/packages/SBMLToolkit/7C24E/src/reactions.jl:35\u001b[39m\n",
      "\u001b[33m\u001b[1m┌ \u001b[22m\u001b[39m\u001b[33m\u001b[1mWarning: \u001b[22m\u001b[39mCannot separate bidirectional kineticLaw `(-k3b*RP(t)) / default_compartment + (k3f*R2(t)) / default_compartment` to forward and reverse part. Setting forward to `(-k3b*RP(t)) / default_compartment + (k3f*R2(t)) / default_compartment` and reverse to `0`. Stochastic simulations will be inexact.\n",
      "\u001b[33m\u001b[1m└ \u001b[22m\u001b[39m\u001b[90m@ SBMLToolkit ~/.julia/packages/SBMLToolkit/7C24E/src/reactions.jl:35\u001b[39m\n",
      "\u001b[33m\u001b[1m┌ \u001b[22m\u001b[39m\u001b[33m\u001b[1mWarning: \u001b[22m\u001b[39mCannot separate bidirectional kineticLaw `(k10f*RG(t)*SOS(t)) / (default_compartment^2) + (-k10b*RGS(t)) / default_compartment` to forward and reverse part. Setting forward to `(k10f*RG(t)*SOS(t)) / (default_compartment^2) + (-k10b*RGS(t)) / default_compartment` and reverse to `0`. Stochastic simulations will be inexact.\n",
      "\u001b[33m\u001b[1m└ \u001b[22m\u001b[39m\u001b[90m@ SBMLToolkit ~/.julia/packages/SBMLToolkit/7C24E/src/reactions.jl:35\u001b[39m\n",
      "\u001b[33m\u001b[1m┌ \u001b[22m\u001b[39m\u001b[33m\u001b[1mWarning: \u001b[22m\u001b[39mCannot separate bidirectional kineticLaw `(k11f*RGS(t)) / default_compartment + (-k11b*RP(t)*GS(t)) / (default_compartment^2)` to forward and reverse part. Setting forward to `(k11f*RGS(t)) / default_compartment + (-k11b*RP(t)*GS(t)) / (default_compartment^2)` and reverse to `0`. Stochastic simulations will be inexact.\n",
      "\u001b[33m\u001b[1m└ \u001b[22m\u001b[39m\u001b[90m@ SBMLToolkit ~/.julia/packages/SBMLToolkit/7C24E/src/reactions.jl:35\u001b[39m\n",
      "\u001b[33m\u001b[1m┌ \u001b[22m\u001b[39m\u001b[33m\u001b[1mWarning: \u001b[22m\u001b[39mCannot separate bidirectional kineticLaw `(V8*PLCgP(t)) / ((K8 + PLCgP(t) / default_compartment)*default_compartment)` to forward and reverse part. Setting forward to `(V8*PLCgP(t)) / ((K8 + PLCgP(t) / default_compartment)*default_compartment)` and reverse to `0`. Stochastic simulations will be inexact.\n",
      "\u001b[33m\u001b[1m└ \u001b[22m\u001b[39m\u001b[90m@ SBMLToolkit ~/.julia/packages/SBMLToolkit/7C24E/src/reactions.jl:35\u001b[39m\n",
      "\u001b[33m\u001b[1m┌ \u001b[22m\u001b[39m\u001b[33m\u001b[1mWarning: \u001b[22m\u001b[39mCannot separate bidirectional kineticLaw `(k2f*(Ra(t)^2)) / (default_compartment^2) + (-k2b*R2(t)) / default_compartment` to forward and reverse part. Setting forward to `(k2f*(Ra(t)^2)) / (default_compartment^2) + (-k2b*R2(t)) / default_compartment` and reverse to `0`. Stochastic simulations will be inexact.\n",
      "\u001b[33m\u001b[1m└ \u001b[22m\u001b[39m\u001b[90m@ SBMLToolkit ~/.julia/packages/SBMLToolkit/7C24E/src/reactions.jl:35\u001b[39m\n",
      "\u001b[33m\u001b[1m┌ \u001b[22m\u001b[39m\u001b[33m\u001b[1mWarning: \u001b[22m\u001b[39mCannot separate bidirectional kineticLaw `(V16*ShP(t)) / ((K16 + ShP(t) / default_compartment)*default_compartment)` to forward and reverse part. Setting forward to `(V16*ShP(t)) / ((K16 + ShP(t) / default_compartment)*default_compartment)` and reverse to `0`. Stochastic simulations will be inexact.\n",
      "\u001b[33m\u001b[1m└ \u001b[22m\u001b[39m\u001b[90m@ SBMLToolkit ~/.julia/packages/SBMLToolkit/7C24E/src/reactions.jl:35\u001b[39m\n",
      "\u001b[33m\u001b[1m┌ \u001b[22m\u001b[39m\u001b[33m\u001b[1mWarning: \u001b[22m\u001b[39mCannot separate bidirectional kineticLaw `(-k17b*RShG(t)) / default_compartment + (k17f*RShP(t)*Grb(t)) / (default_compartment^2)` to forward and reverse part. Setting forward to `(-k17b*RShG(t)) / default_compartment + (k17f*RShP(t)*Grb(t)) / (default_compartment^2)` and reverse to `0`. Stochastic simulations will be inexact.\n",
      "\u001b[33m\u001b[1m└ \u001b[22m\u001b[39m\u001b[90m@ SBMLToolkit ~/.julia/packages/SBMLToolkit/7C24E/src/reactions.jl:35\u001b[39m\n",
      "\u001b[33m\u001b[1m┌ \u001b[22m\u001b[39m\u001b[33m\u001b[1mWarning: \u001b[22m\u001b[39mCannot separate bidirectional kineticLaw `(-ADP*k6b*RPLCgP(t)) / default_compartment + (ATP*k6f*RPLCg(t)) / default_compartment` to forward and reverse part. Setting forward to `(-ADP*k6b*RPLCgP(t)) / default_compartment + (ATP*k6f*RPLCg(t)) / default_compartment` and reverse to `0`. Stochastic simulations will be inexact.\n",
      "\u001b[33m\u001b[1m└ \u001b[22m\u001b[39m\u001b[90m@ SBMLToolkit ~/.julia/packages/SBMLToolkit/7C24E/src/reactions.jl:35\u001b[39m\n",
      "\u001b[33m\u001b[1m┌ \u001b[22m\u001b[39m\u001b[33m\u001b[1mWarning: \u001b[22m\u001b[39mCannot separate bidirectional kineticLaw `(-k7b*RP(t)*PLCgP(t)) / (default_compartment^2) + (k7f*RPLCgP(t)) / default_compartment` to forward and reverse part. Setting forward to `(-k7b*RP(t)*PLCgP(t)) / (default_compartment^2) + (k7f*RPLCgP(t)) / default_compartment` and reverse to `0`. Stochastic simulations will be inexact.\n",
      "\u001b[33m\u001b[1m└ \u001b[22m\u001b[39m\u001b[90m@ SBMLToolkit ~/.julia/packages/SBMLToolkit/7C24E/src/reactions.jl:35\u001b[39m\n",
      "\u001b[33m\u001b[1m┌ \u001b[22m\u001b[39m\u001b[33m\u001b[1mWarning: \u001b[22m\u001b[39mCannot separate bidirectional kineticLaw `(-k15b*RP(t)*ShP(t)) / (default_compartment^2) + (k15f*RShP(t)) / default_compartment` to forward and reverse part. Setting forward to `(-k15b*RP(t)*ShP(t)) / (default_compartment^2) + (k15f*RShP(t)) / default_compartment` and reverse to `0`. Stochastic simulations will be inexact.\n",
      "\u001b[33m\u001b[1m└ \u001b[22m\u001b[39m\u001b[90m@ SBMLToolkit ~/.julia/packages/SBMLToolkit/7C24E/src/reactions.jl:35\u001b[39m\n",
      "\u001b[33m\u001b[1m┌ \u001b[22m\u001b[39m\u001b[33m\u001b[1mWarning: \u001b[22m\u001b[39mCannot separate bidirectional kineticLaw `(-k14b*RShP(t)) / default_compartment + (k14f*RSh(t)) / default_compartment` to forward and reverse part. Setting forward to `(-k14b*RShP(t)) / default_compartment + (k14f*RSh(t)) / default_compartment` and reverse to `0`. Stochastic simulations will be inexact.\n",
      "\u001b[33m\u001b[1m└ \u001b[22m\u001b[39m\u001b[90m@ SBMLToolkit ~/.julia/packages/SBMLToolkit/7C24E/src/reactions.jl:35\u001b[39m\n",
      "\u001b[33m\u001b[1m┌ \u001b[22m\u001b[39m\u001b[33m\u001b[1mWarning: \u001b[22m\u001b[39mCannot separate bidirectional kineticLaw `(-k9b*RG(t)) / default_compartment + (k9f*RP(t)*Grb(t)) / (default_compartment^2)` to forward and reverse part. Setting forward to `(-k9b*RG(t)) / default_compartment + (k9f*RP(t)*Grb(t)) / (default_compartment^2)` and reverse to `0`. Stochastic simulations will be inexact.\n",
      "\u001b[33m\u001b[1m└ \u001b[22m\u001b[39m\u001b[90m@ SBMLToolkit ~/.julia/packages/SBMLToolkit/7C24E/src/reactions.jl:35\u001b[39m\n",
      "\u001b[33m\u001b[1m┌ \u001b[22m\u001b[39m\u001b[33m\u001b[1mWarning: \u001b[22m\u001b[39mCannot separate bidirectional kineticLaw `(-k18b*ShG(t)*RP(t)) / (default_compartment^2) + (k18f*RShG(t)) / default_compartment` to forward and reverse part. Setting forward to `(-k18b*ShG(t)*RP(t)) / (default_compartment^2) + (k18f*RShG(t)) / default_compartment` and reverse to `0`. Stochastic simulations will be inexact.\n",
      "\u001b[33m\u001b[1m└ \u001b[22m\u001b[39m\u001b[90m@ SBMLToolkit ~/.julia/packages/SBMLToolkit/7C24E/src/reactions.jl:35\u001b[39m\n",
      "\u001b[33m\u001b[1m┌ \u001b[22m\u001b[39m\u001b[33m\u001b[1mWarning: \u001b[22m\u001b[39mCannot separate bidirectional kineticLaw `(-k22b*ShGS(t)) / default_compartment + (k22f*ShG(t)*SOS(t)) / (default_compartment^2)` to forward and reverse part. Setting forward to `(-k22b*ShGS(t)) / default_compartment + (k22f*ShG(t)*SOS(t)) / (default_compartment^2)` and reverse to `0`. Stochastic simulations will be inexact.\n",
      "\u001b[33m\u001b[1m└ \u001b[22m\u001b[39m\u001b[90m@ SBMLToolkit ~/.julia/packages/SBMLToolkit/7C24E/src/reactions.jl:35\u001b[39m\n",
      "\u001b[33m\u001b[1m┌ \u001b[22m\u001b[39m\u001b[33m\u001b[1mWarning: \u001b[22m\u001b[39mCannot separate bidirectional kineticLaw `(-k1b*Ra(t)) / default_compartment + (k1f*R(t)*EGF(t)) / (default_compartment^2)` to forward and reverse part. Setting forward to `(-k1b*Ra(t)) / default_compartment + (k1f*R(t)*EGF(t)) / (default_compartment^2)` and reverse to `0`. Stochastic simulations will be inexact.\n",
      "\u001b[33m\u001b[1m└ \u001b[22m\u001b[39m\u001b[90m@ SBMLToolkit ~/.julia/packages/SBMLToolkit/7C24E/src/reactions.jl:35\u001b[39m\n",
      "\u001b[33m\u001b[1m┌ \u001b[22m\u001b[39m\u001b[33m\u001b[1mWarning: \u001b[22m\u001b[39mCannot separate bidirectional kineticLaw `(k24f*GS(t)*RShP(t)) / (default_compartment^2) + (-k24b*RShGS(t)) / default_compartment` to forward and reverse part. Setting forward to `(k24f*GS(t)*RShP(t)) / (default_compartment^2) + (-k24b*RShGS(t)) / default_compartment` and reverse to `0`. Stochastic simulations will be inexact.\n",
      "\u001b[33m\u001b[1m└ \u001b[22m\u001b[39m\u001b[90m@ SBMLToolkit ~/.julia/packages/SBMLToolkit/7C24E/src/reactions.jl:35\u001b[39m\n"
     ]
    },
    {
     "data": {
      "text/plain": [
       "\u001b[38;2;86;182;194mODEProblem\u001b[0m with uType \u001b[38;2;86;182;194mVector{Float64}\u001b[0m and tType \u001b[38;2;86;182;194mInt64\u001b[0m. In-place: \u001b[38;2;86;182;194mtrue\u001b[0m\n",
       "timespan: (0, 120)\n",
       "u0: 23-element Vector{Float64}:\n",
       "   0.0\n",
       "   0.0\n",
       " 150.0\n",
       " 680.0\n",
       "   0.0\n",
       "   0.0\n",
       "   0.0\n",
       "   0.0\n",
       "   0.0\n",
       "  34.0\n",
       "   0.0\n",
       "   0.0\n",
       " 105.0\n",
       "   0.0\n",
       "   0.0\n",
       "  85.0\n",
       "   0.0\n",
       "   0.0\n",
       "   0.0\n",
       "   0.0\n",
       "   0.0\n",
       " 100.0\n",
       "   0.0"
      ]
     },
     "execution_count": 45,
     "metadata": {},
     "output_type": "execute_result"
    }
   ],
   "source": [
    "reaction_network = egfr_ode(\"data/kholodenko1.xml\",3,1)\n",
    "#convert Catalyst.ReactionSystem to an ModelingToolkit.ODESystem\n",
    "odesys = complete(Catalyst.convert(ODESystem, reaction_network))\n",
    "tspan = (0,120)\n",
    "t_expt = [0, 15, 30, 45, 60, 120]\n",
    "prob = ODEProblem(odesys, [], tspan, [], saveat=t_expt)"
   ]
  },
  {
   "cell_type": "code",
   "execution_count": 46,
   "metadata": {},
   "outputs": [
    {
     "name": "stderr",
     "output_type": "stream",
     "text": [
      "\u001b[33m\u001b[1m┌ \u001b[22m\u001b[39m\u001b[33m\u001b[1mWarning: \u001b[22m\u001b[39mCannot separate bidirectional kineticLaw `(-k21b*ShG(t)) / default_compartment + (k21f*ShP(t)*Grb(t)) / (default_compartment^2)` to forward and reverse part. Setting forward to `(-k21b*ShG(t)) / default_compartment + (k21f*ShP(t)*Grb(t)) / (default_compartment^2)` and reverse to `0`. Stochastic simulations will be inexact.\n",
      "\u001b[33m\u001b[1m└ \u001b[22m\u001b[39m\u001b[90m@ SBMLToolkit ~/.julia/packages/SBMLToolkit/7C24E/src/reactions.jl:35\u001b[39m\n",
      "\u001b[33m\u001b[1m┌ \u001b[22m\u001b[39m\u001b[33m\u001b[1mWarning: \u001b[22m\u001b[39mCannot separate bidirectional kineticLaw `(V4*RP(t)) / ((K4 + RP(t) / default_compartment)*default_compartment)` to forward and reverse part. Setting forward to `(V4*RP(t)) / ((K4 + RP(t) / default_compartment)*default_compartment)` and reverse to `0`. Stochastic simulations will be inexact.\n",
      "\u001b[33m\u001b[1m└ \u001b[22m\u001b[39m\u001b[90m@ SBMLToolkit ~/.julia/packages/SBMLToolkit/7C24E/src/reactions.jl:35\u001b[39m\n",
      "\u001b[33m\u001b[1m┌ \u001b[22m\u001b[39m\u001b[33m\u001b[1mWarning: \u001b[22m\u001b[39mCannot separate bidirectional kineticLaw `(k20f*RShGS(t)) / default_compartment + (-k20b*RP(t)*ShGS(t)) / (default_compartment^2)` to forward and reverse part. Setting forward to `(k20f*RShGS(t)) / default_compartment + (-k20b*RP(t)*ShGS(t)) / (default_compartment^2)` and reverse to `0`. Stochastic simulations will be inexact.\n",
      "\u001b[33m\u001b[1m└ \u001b[22m\u001b[39m\u001b[90m@ SBMLToolkit ~/.julia/packages/SBMLToolkit/7C24E/src/reactions.jl:35\u001b[39m\n",
      "\u001b[33m\u001b[1m┌ \u001b[22m\u001b[39m\u001b[33m\u001b[1mWarning: \u001b[22m\u001b[39mCannot separate bidirectional kineticLaw `(-k13b*RSh(t)) / default_compartment + (k13f*RP(t)*Shc(t)) / (default_compartment^2)` to forward and reverse part. Setting forward to `(-k13b*RSh(t)) / default_compartment + (k13f*RP(t)*Shc(t)) / (default_compartment^2)` and reverse to `0`. Stochastic simulations will be inexact.\n",
      "\u001b[33m\u001b[1m└ \u001b[22m\u001b[39m\u001b[90m@ SBMLToolkit ~/.julia/packages/SBMLToolkit/7C24E/src/reactions.jl:35\u001b[39m\n",
      "\u001b[33m\u001b[1m┌ \u001b[22m\u001b[39m\u001b[33m\u001b[1mWarning: \u001b[22m\u001b[39mCannot separate bidirectional kineticLaw `(k12f*GS(t)) / default_compartment + (-k12b*SOS(t)*Grb(t)) / (default_compartment^2)` to forward and reverse part. Setting forward to `(k12f*GS(t)) / default_compartment + (-k12b*SOS(t)*Grb(t)) / (default_compartment^2)` and reverse to `0`. Stochastic simulations will be inexact.\n",
      "\u001b[33m\u001b[1m└ \u001b[22m\u001b[39m\u001b[90m@ SBMLToolkit ~/.julia/packages/SBMLToolkit/7C24E/src/reactions.jl:35\u001b[39m\n",
      "\u001b[33m\u001b[1m┌ \u001b[22m\u001b[39m\u001b[33m\u001b[1mWarning: \u001b[22m\u001b[39mCannot separate bidirectional kineticLaw `(k5f*RP(t)*PLCg(t)) / (default_compartment^2) + (-k5b*RPLCg(t)) / default_compartment` to forward and reverse part. Setting forward to `(k5f*RP(t)*PLCg(t)) / (default_compartment^2) + (-k5b*RPLCg(t)) / default_compartment` and reverse to `0`. Stochastic simulations will be inexact.\n",
      "\u001b[33m\u001b[1m└ \u001b[22m\u001b[39m\u001b[90m@ SBMLToolkit ~/.julia/packages/SBMLToolkit/7C24E/src/reactions.jl:35\u001b[39m\n",
      "\u001b[33m\u001b[1m┌ \u001b[22m\u001b[39m\u001b[33m\u001b[1mWarning: \u001b[22m\u001b[39mCannot separate bidirectional kineticLaw `(k19f*SOS(t)*RShG(t)) / (default_compartment^2) + (-k19b*RShGS(t)) / default_compartment` to forward and reverse part. Setting forward to `(k19f*SOS(t)*RShG(t)) / (default_compartment^2) + (-k19b*RShGS(t)) / default_compartment` and reverse to `0`. Stochastic simulations will be inexact.\n",
      "\u001b[33m\u001b[1m└ \u001b[22m\u001b[39m\u001b[90m@ SBMLToolkit ~/.julia/packages/SBMLToolkit/7C24E/src/reactions.jl:35\u001b[39m\n",
      "\u001b[33m\u001b[1m┌ \u001b[22m\u001b[39m\u001b[33m\u001b[1mWarning: \u001b[22m\u001b[39mCannot separate bidirectional kineticLaw `(k25f*PLCgP(t)) / default_compartment + (-k25b*PLCgl(t)) / default_compartment` to forward and reverse part. Setting forward to `(k25f*PLCgP(t)) / default_compartment + (-k25b*PLCgl(t)) / default_compartment` and reverse to `0`. Stochastic simulations will be inexact.\n",
      "\u001b[33m\u001b[1m└ \u001b[22m\u001b[39m\u001b[90m@ SBMLToolkit ~/.julia/packages/SBMLToolkit/7C24E/src/reactions.jl:35\u001b[39m\n",
      "\u001b[33m\u001b[1m┌ \u001b[22m\u001b[39m\u001b[33m\u001b[1mWarning: \u001b[22m\u001b[39mCannot separate bidirectional kineticLaw `(k23f*ShGS(t)) / default_compartment + (-k23b*ShP(t)*GS(t)) / (default_compartment^2)` to forward and reverse part. Setting forward to `(k23f*ShGS(t)) / default_compartment + (-k23b*ShP(t)*GS(t)) / (default_compartment^2)` and reverse to `0`. Stochastic simulations will be inexact.\n",
      "\u001b[33m\u001b[1m└ \u001b[22m\u001b[39m\u001b[90m@ SBMLToolkit ~/.julia/packages/SBMLToolkit/7C24E/src/reactions.jl:35\u001b[39m\n",
      "\u001b[33m\u001b[1m┌ \u001b[22m\u001b[39m\u001b[33m\u001b[1mWarning: \u001b[22m\u001b[39mCannot separate bidirectional kineticLaw `(-k3b*RP(t)) / default_compartment + (k3f*R2(t)) / default_compartment` to forward and reverse part. Setting forward to `(-k3b*RP(t)) / default_compartment + (k3f*R2(t)) / default_compartment` and reverse to `0`. Stochastic simulations will be inexact.\n",
      "\u001b[33m\u001b[1m└ \u001b[22m\u001b[39m\u001b[90m@ SBMLToolkit ~/.julia/packages/SBMLToolkit/7C24E/src/reactions.jl:35\u001b[39m\n",
      "\u001b[33m\u001b[1m┌ \u001b[22m\u001b[39m\u001b[33m\u001b[1mWarning: \u001b[22m\u001b[39mCannot separate bidirectional kineticLaw `(k10f*RG(t)*SOS(t)) / (default_compartment^2) + (-k10b*RGS(t)) / default_compartment` to forward and reverse part. Setting forward to `(k10f*RG(t)*SOS(t)) / (default_compartment^2) + (-k10b*RGS(t)) / default_compartment` and reverse to `0`. Stochastic simulations will be inexact.\n",
      "\u001b[33m\u001b[1m└ \u001b[22m\u001b[39m\u001b[90m@ SBMLToolkit ~/.julia/packages/SBMLToolkit/7C24E/src/reactions.jl:35\u001b[39m\n",
      "\u001b[33m\u001b[1m┌ \u001b[22m\u001b[39m\u001b[33m\u001b[1mWarning: \u001b[22m\u001b[39mCannot separate bidirectional kineticLaw `(k11f*RGS(t)) / default_compartment + (-k11b*RP(t)*GS(t)) / (default_compartment^2)` to forward and reverse part. Setting forward to `(k11f*RGS(t)) / default_compartment + (-k11b*RP(t)*GS(t)) / (default_compartment^2)` and reverse to `0`. Stochastic simulations will be inexact.\n",
      "\u001b[33m\u001b[1m└ \u001b[22m\u001b[39m\u001b[90m@ SBMLToolkit ~/.julia/packages/SBMLToolkit/7C24E/src/reactions.jl:35\u001b[39m\n",
      "\u001b[33m\u001b[1m┌ \u001b[22m\u001b[39m\u001b[33m\u001b[1mWarning: \u001b[22m\u001b[39mCannot separate bidirectional kineticLaw `(V8*PLCgP(t)) / ((K8 + PLCgP(t) / default_compartment)*default_compartment)` to forward and reverse part. Setting forward to `(V8*PLCgP(t)) / ((K8 + PLCgP(t) / default_compartment)*default_compartment)` and reverse to `0`. Stochastic simulations will be inexact.\n",
      "\u001b[33m\u001b[1m└ \u001b[22m\u001b[39m\u001b[90m@ SBMLToolkit ~/.julia/packages/SBMLToolkit/7C24E/src/reactions.jl:35\u001b[39m\n",
      "\u001b[33m\u001b[1m┌ \u001b[22m\u001b[39m\u001b[33m\u001b[1mWarning: \u001b[22m\u001b[39mCannot separate bidirectional kineticLaw `(k2f*(Ra(t)^2)) / (default_compartment^2) + (-k2b*R2(t)) / default_compartment` to forward and reverse part. Setting forward to `(k2f*(Ra(t)^2)) / (default_compartment^2) + (-k2b*R2(t)) / default_compartment` and reverse to `0`. Stochastic simulations will be inexact.\n",
      "\u001b[33m\u001b[1m└ \u001b[22m\u001b[39m\u001b[90m@ SBMLToolkit ~/.julia/packages/SBMLToolkit/7C24E/src/reactions.jl:35\u001b[39m\n",
      "\u001b[33m\u001b[1m┌ \u001b[22m\u001b[39m\u001b[33m\u001b[1mWarning: \u001b[22m\u001b[39mCannot separate bidirectional kineticLaw `(V16*ShP(t)) / ((K16 + ShP(t) / default_compartment)*default_compartment)` to forward and reverse part. Setting forward to `(V16*ShP(t)) / ((K16 + ShP(t) / default_compartment)*default_compartment)` and reverse to `0`. Stochastic simulations will be inexact.\n",
      "\u001b[33m\u001b[1m└ \u001b[22m\u001b[39m\u001b[90m@ SBMLToolkit ~/.julia/packages/SBMLToolkit/7C24E/src/reactions.jl:35\u001b[39m\n",
      "\u001b[33m\u001b[1m┌ \u001b[22m\u001b[39m\u001b[33m\u001b[1mWarning: \u001b[22m\u001b[39mCannot separate bidirectional kineticLaw `(-k17b*RShG(t)) / default_compartment + (k17f*RShP(t)*Grb(t)) / (default_compartment^2)` to forward and reverse part. Setting forward to `(-k17b*RShG(t)) / default_compartment + (k17f*RShP(t)*Grb(t)) / (default_compartment^2)` and reverse to `0`. Stochastic simulations will be inexact.\n",
      "\u001b[33m\u001b[1m└ \u001b[22m\u001b[39m\u001b[90m@ SBMLToolkit ~/.julia/packages/SBMLToolkit/7C24E/src/reactions.jl:35\u001b[39m\n",
      "\u001b[33m\u001b[1m┌ \u001b[22m\u001b[39m\u001b[33m\u001b[1mWarning: \u001b[22m\u001b[39mCannot separate bidirectional kineticLaw `(-ADP*k6b*RPLCgP(t)) / default_compartment + (ATP*k6f*RPLCg(t)) / default_compartment` to forward and reverse part. Setting forward to `(-ADP*k6b*RPLCgP(t)) / default_compartment + (ATP*k6f*RPLCg(t)) / default_compartment` and reverse to `0`. Stochastic simulations will be inexact.\n",
      "\u001b[33m\u001b[1m└ \u001b[22m\u001b[39m\u001b[90m@ SBMLToolkit ~/.julia/packages/SBMLToolkit/7C24E/src/reactions.jl:35\u001b[39m\n",
      "\u001b[33m\u001b[1m┌ \u001b[22m\u001b[39m\u001b[33m\u001b[1mWarning: \u001b[22m\u001b[39mCannot separate bidirectional kineticLaw `(-k7b*RP(t)*PLCgP(t)) / (default_compartment^2) + (k7f*RPLCgP(t)) / default_compartment` to forward and reverse part. Setting forward to `(-k7b*RP(t)*PLCgP(t)) / (default_compartment^2) + (k7f*RPLCgP(t)) / default_compartment` and reverse to `0`. Stochastic simulations will be inexact.\n",
      "\u001b[33m\u001b[1m└ \u001b[22m\u001b[39m\u001b[90m@ SBMLToolkit ~/.julia/packages/SBMLToolkit/7C24E/src/reactions.jl:35\u001b[39m\n",
      "\u001b[33m\u001b[1m┌ \u001b[22m\u001b[39m\u001b[33m\u001b[1mWarning: \u001b[22m\u001b[39mCannot separate bidirectional kineticLaw `(-k15b*RP(t)*ShP(t)) / (default_compartment^2) + (k15f*RShP(t)) / default_compartment` to forward and reverse part. Setting forward to `(-k15b*RP(t)*ShP(t)) / (default_compartment^2) + (k15f*RShP(t)) / default_compartment` and reverse to `0`. Stochastic simulations will be inexact.\n",
      "\u001b[33m\u001b[1m└ \u001b[22m\u001b[39m\u001b[90m@ SBMLToolkit ~/.julia/packages/SBMLToolkit/7C24E/src/reactions.jl:35\u001b[39m\n",
      "\u001b[33m\u001b[1m┌ \u001b[22m\u001b[39m\u001b[33m\u001b[1mWarning: \u001b[22m\u001b[39mCannot separate bidirectional kineticLaw `(-k14b*RShP(t)) / default_compartment + (k14f*RSh(t)) / default_compartment` to forward and reverse part. Setting forward to `(-k14b*RShP(t)) / default_compartment + (k14f*RSh(t)) / default_compartment` and reverse to `0`. Stochastic simulations will be inexact.\n",
      "\u001b[33m\u001b[1m└ \u001b[22m\u001b[39m\u001b[90m@ SBMLToolkit ~/.julia/packages/SBMLToolkit/7C24E/src/reactions.jl:35\u001b[39m\n",
      "\u001b[33m\u001b[1m┌ \u001b[22m\u001b[39m\u001b[33m\u001b[1mWarning: \u001b[22m\u001b[39mCannot separate bidirectional kineticLaw `(-k9b*RG(t)) / default_compartment + (k9f*RP(t)*Grb(t)) / (default_compartment^2)` to forward and reverse part. Setting forward to `(-k9b*RG(t)) / default_compartment + (k9f*RP(t)*Grb(t)) / (default_compartment^2)` and reverse to `0`. Stochastic simulations will be inexact.\n",
      "\u001b[33m\u001b[1m└ \u001b[22m\u001b[39m\u001b[90m@ SBMLToolkit ~/.julia/packages/SBMLToolkit/7C24E/src/reactions.jl:35\u001b[39m\n",
      "\u001b[33m\u001b[1m┌ \u001b[22m\u001b[39m\u001b[33m\u001b[1mWarning: \u001b[22m\u001b[39mCannot separate bidirectional kineticLaw `(-k18b*ShG(t)*RP(t)) / (default_compartment^2) + (k18f*RShG(t)) / default_compartment` to forward and reverse part. Setting forward to `(-k18b*ShG(t)*RP(t)) / (default_compartment^2) + (k18f*RShG(t)) / default_compartment` and reverse to `0`. Stochastic simulations will be inexact.\n",
      "\u001b[33m\u001b[1m└ \u001b[22m\u001b[39m\u001b[90m@ SBMLToolkit ~/.julia/packages/SBMLToolkit/7C24E/src/reactions.jl:35\u001b[39m\n",
      "\u001b[33m\u001b[1m┌ \u001b[22m\u001b[39m\u001b[33m\u001b[1mWarning: \u001b[22m\u001b[39mCannot separate bidirectional kineticLaw `(-k22b*ShGS(t)) / default_compartment + (k22f*ShG(t)*SOS(t)) / (default_compartment^2)` to forward and reverse part. Setting forward to `(-k22b*ShGS(t)) / default_compartment + (k22f*ShG(t)*SOS(t)) / (default_compartment^2)` and reverse to `0`. Stochastic simulations will be inexact.\n",
      "\u001b[33m\u001b[1m└ \u001b[22m\u001b[39m\u001b[90m@ SBMLToolkit ~/.julia/packages/SBMLToolkit/7C24E/src/reactions.jl:35\u001b[39m\n",
      "\u001b[33m\u001b[1m┌ \u001b[22m\u001b[39m\u001b[33m\u001b[1mWarning: \u001b[22m\u001b[39mCannot separate bidirectional kineticLaw `(-k1b*Ra(t)) / default_compartment + (k1f*R(t)*EGF(t)) / (default_compartment^2)` to forward and reverse part. Setting forward to `(-k1b*Ra(t)) / default_compartment + (k1f*R(t)*EGF(t)) / (default_compartment^2)` and reverse to `0`. Stochastic simulations will be inexact.\n",
      "\u001b[33m\u001b[1m└ \u001b[22m\u001b[39m\u001b[90m@ SBMLToolkit ~/.julia/packages/SBMLToolkit/7C24E/src/reactions.jl:35\u001b[39m\n",
      "\u001b[33m\u001b[1m┌ \u001b[22m\u001b[39m\u001b[33m\u001b[1mWarning: \u001b[22m\u001b[39mCannot separate bidirectional kineticLaw `(k24f*GS(t)*RShP(t)) / (default_compartment^2) + (-k24b*RShGS(t)) / default_compartment` to forward and reverse part. Setting forward to `(k24f*GS(t)*RShP(t)) / (default_compartment^2) + (-k24b*RShGS(t)) / default_compartment` and reverse to `0`. Stochastic simulations will be inexact.\n",
      "\u001b[33m\u001b[1m└ \u001b[22m\u001b[39m\u001b[90m@ SBMLToolkit ~/.julia/packages/SBMLToolkit/7C24E/src/reactions.jl:35\u001b[39m\n"
     ]
    }
   ],
   "source": [
    "odesys, u0, tspan, p = return_ode_problem_default_inputs();"
   ]
  },
  {
   "cell_type": "code",
   "execution_count": 47,
   "metadata": {},
   "outputs": [
    {
     "data": {
      "text/plain": [
       "\u001b[38;2;86;182;194mODEProblem\u001b[0m with uType \u001b[38;2;86;182;194mVector{Float64}\u001b[0m and tType \u001b[38;2;86;182;194mInt64\u001b[0m. In-place: \u001b[38;2;86;182;194mtrue\u001b[0m\n",
       "timespan: (0, 120)\n",
       "u0: 23-element Vector{Float64}:\n",
       "   0.0\n",
       "   0.0\n",
       " 150.0\n",
       "   6.8\n",
       "   0.0\n",
       "   0.0\n",
       "   0.0\n",
       "   0.0\n",
       "   0.0\n",
       "  34.0\n",
       "   0.0\n",
       "   0.0\n",
       " 105.0\n",
       "   0.0\n",
       "   0.0\n",
       "  85.0\n",
       "   0.0\n",
       "   0.0\n",
       "   0.0\n",
       "   0.0\n",
       "   0.0\n",
       " 100.0\n",
       "   0.0"
      ]
     },
     "execution_count": 47,
     "metadata": {},
     "output_type": "execute_result"
    }
   ],
   "source": [
    "remake(prob,u0=u0)"
   ]
  },
  {
   "cell_type": "code",
   "execution_count": 37,
   "metadata": {},
   "outputs": [
    {
     "data": {
      "text/plain": [
       "86"
      ]
     },
     "execution_count": 37,
     "metadata": {},
     "output_type": "execute_result"
    }
   ],
   "source": [
    "prob.u0[4]=86"
   ]
  },
  {
   "cell_type": "code",
   "execution_count": 38,
   "metadata": {},
   "outputs": [
    {
     "data": {
      "text/plain": [
       "\u001b[38;2;86;182;194mODEProblem\u001b[0m with uType \u001b[38;2;86;182;194mVector{Float64}\u001b[0m and tType \u001b[38;2;86;182;194mInt64\u001b[0m. In-place: \u001b[38;2;86;182;194mtrue\u001b[0m\n",
       "timespan: (0, 120)\n",
       "u0: 23-element Vector{Float64}:\n",
       "   0.0\n",
       "   0.0\n",
       " 150.0\n",
       "  86.0\n",
       "   0.0\n",
       "   0.0\n",
       "   0.0\n",
       "   0.0\n",
       "   0.0\n",
       "  34.0\n",
       "   0.0\n",
       "   0.0\n",
       " 105.0\n",
       "   0.0\n",
       "   0.0\n",
       "  85.0\n",
       "   0.0\n",
       "   0.0\n",
       "   0.0\n",
       "   0.0\n",
       "   0.0\n",
       " 100.0\n",
       "   0.0"
      ]
     },
     "execution_count": 38,
     "metadata": {},
     "output_type": "execute_result"
    }
   ],
   "source": [
    "prob"
   ]
  },
  {
   "cell_type": "code",
   "execution_count": 18,
   "metadata": {},
   "outputs": [
    {
     "data": {
      "text/plain": [
       "\u001b[38;2;86;182;194mODEProblem\u001b[0m with uType \u001b[38;2;86;182;194mVector{Float64}\u001b[0m and tType \u001b[38;2;86;182;194mInt64\u001b[0m. In-place: \u001b[38;2;86;182;194mtrue\u001b[0m\n",
       "timespan: (0, 120)\n",
       "u0: 23-element Vector{Float64}:\n",
       "   0.0\n",
       "   0.0\n",
       " 150.0\n",
       " 680.0\n",
       "   0.0\n",
       "   0.0\n",
       "   0.0\n",
       "   0.0\n",
       "   0.0\n",
       "  34.0\n",
       "   0.0\n",
       "   0.0\n",
       " 105.0\n",
       "   0.0\n",
       "   0.0\n",
       "  85.0\n",
       "   0.0\n",
       "   0.0\n",
       "   0.0\n",
       "   0.0\n",
       "   0.0\n",
       " 100.0\n",
       "   0.0"
      ]
     },
     "execution_count": 18,
     "metadata": {},
     "output_type": "execute_result"
    }
   ],
   "source": [
    "test_prob = ODEProblem(odesys, species(reaction_network) .=> prob.u0, tspan, [], saveat=t_expt)"
   ]
  },
  {
   "cell_type": "code",
   "execution_count": 23,
   "metadata": {},
   "outputs": [
    {
     "data": {
      "text/plain": [
       "23-element Vector{Pair{SymbolicUtils.BasicSymbolic{Real}, Float64}}:\n",
       "     Ra(t) => 0.0\n",
       "    RGS(t) => 0.0\n",
       "    Shc(t) => 150.0\n",
       "    EGF(t) => 680.0\n",
       "   ShGS(t) => 0.0\n",
       "     RP(t) => 0.0\n",
       " RPLCgP(t) => 0.0\n",
       "     RG(t) => 0.0\n",
       "   RShP(t) => 0.0\n",
       "    SOS(t) => 34.0\n",
       "  RShGS(t) => 0.0\n",
       "   RShG(t) => 0.0\n",
       "   PLCg(t) => 105.0\n",
       "     GS(t) => 0.0\n",
       "    ShP(t) => 0.0\n",
       "    Grb(t) => 85.0\n",
       "  PLCgl(t) => 0.0\n",
       "    RSh(t) => 0.0\n",
       "    ShG(t) => 0.0\n",
       "  RPLCg(t) => 0.0\n",
       "  PLCgP(t) => 0.0\n",
       "      R(t) => 100.0\n",
       "     R2(t) => 0.0"
      ]
     },
     "execution_count": 23,
     "metadata": {},
     "output_type": "execute_result"
    }
   ],
   "source": [
    "u0 = species(reaction_network) .=> prob.u0"
   ]
  },
  {
   "cell_type": "code",
   "execution_count": 14,
   "metadata": {},
   "outputs": [
    {
     "data": {
      "text/plain": [
       "Ra(t) => 0.0"
      ]
     },
     "execution_count": 14,
     "metadata": {},
     "output_type": "execute_result"
    }
   ],
   "source": [
    "u0[1]"
   ]
  },
  {
   "cell_type": "code",
   "execution_count": 23,
   "metadata": {},
   "outputs": [
    {
     "data": {
      "text/plain": [
       "23-element Vector{SymbolicUtils.BasicSymbolic{Real}}:\n",
       " Ra(t)\n",
       " RGS(t)\n",
       " Shc(t)\n",
       " EGF(t)\n",
       " ShGS(t)\n",
       " RP(t)\n",
       " RPLCgP(t)\n",
       " RG(t)\n",
       " RShP(t)\n",
       " SOS(t)\n",
       " RShGS(t)\n",
       " RShG(t)\n",
       " PLCg(t)\n",
       " GS(t)\n",
       " ShP(t)\n",
       " Grb(t)\n",
       " PLCgl(t)\n",
       " RSh(t)\n",
       " ShG(t)\n",
       " RPLCg(t)\n",
       " PLCgP(t)\n",
       " R(t)\n",
       " R2(t)"
      ]
     },
     "execution_count": 23,
     "metadata": {},
     "output_type": "execute_result"
    }
   ],
   "source": [
    "species(reaction_network)"
   ]
  },
  {
   "cell_type": "code",
   "execution_count": 24,
   "metadata": {},
   "outputs": [
    {
     "ename": "LoadError",
     "evalue": "TypeError: non-boolean (SymbolicUtils.BasicSymbolic{Bool}) used in boolean context",
     "output_type": "error",
     "traceback": [
      "TypeError: non-boolean (SymbolicUtils.BasicSymbolic{Bool}) used in boolean context",
      "",
      "Stacktrace:",
      " [1] iterate",
      "   @ ./iterators.jl:548 [inlined]",
      " [2] iterate",
      "   @ ./generator.jl:45 [inlined]",
      " [3] grow_to!",
      "   @ ./array.jl:853 [inlined]",
      " [4] collect",
      "   @ ./array.jl:777 [inlined]",
      " [5] findall(A::Vector{SymbolicUtils.BasicSymbolic{Bool}})",
      "   @ Base ./array.jl:2680",
      " [6] top-level scope",
      "   @ In[24]:2"
     ]
    }
   ],
   "source": [
    "@variables t EGF(t)\n",
    "findall(u0 .== (EGF => 680.0))"
   ]
  },
  {
   "cell_type": "code",
   "execution_count": 26,
   "metadata": {},
   "outputs": [
    {
     "data": {
      "text/plain": [
       "23-element BitVector:\n",
       " 0\n",
       " 0\n",
       " 0\n",
       " 0\n",
       " 0\n",
       " 0\n",
       " 0\n",
       " 0\n",
       " 0\n",
       " 0\n",
       " 0\n",
       " 0\n",
       " 0\n",
       " 0\n",
       " 0\n",
       " 0\n",
       " 0\n",
       " 0\n",
       " 0\n",
       " 0\n",
       " 0\n",
       " 0\n",
       " 0"
      ]
     },
     "execution_count": 26,
     "metadata": {},
     "output_type": "execute_result"
    }
   ],
   "source": [
    "u0 .== (:EGF => 680.0)"
   ]
  },
  {
   "cell_type": "code",
   "execution_count": null,
   "metadata": {},
   "outputs": [],
   "source": [
    "\n",
    ":RShG, :ShGS, :RG, :RShGS, :RShG, :GS, :Grb, :ShG\n"
   ]
  },
  {
   "cell_type": "code",
   "execution_count": 1,
   "metadata": {},
   "outputs": [
    {
     "data": {
      "text/plain": [
       "53-element Vector{Pair{Symbol, Float64}}:\n",
       "                 :k7b => 0.006\n",
       "                :k22f => 0.03\n",
       "                :k23b => 0.021\n",
       "                :k22b => 0.064\n",
       "                :k20f => 0.12\n",
       "                :k24b => 0.0429\n",
       "                :k14f => 6.0\n",
       "                :k25b => 0.03\n",
       "                 :k5b => 0.2\n",
       "                :k13b => 0.6\n",
       "                :k23f => 0.1\n",
       "                 :k7f => 0.3\n",
       "                :k21f => 0.003\n",
       "                      ⋮\n",
       "                 :k3b => 0.01\n",
       "                 :k9f => 0.003\n",
       "                 :ATP => 1.0\n",
       "                :k20b => 0.00024\n",
       "                :k10f => 0.01\n",
       "                 :V16 => 1.7\n",
       "                :k15f => 0.3\n",
       "                 :k2b => 0.1\n",
       "                :k18f => 0.3\n",
       "                 :k2f => 0.01\n",
       "                :k10b => 0.06\n",
       " :default_compartment => 1.0"
      ]
     },
     "execution_count": 1,
     "metadata": {},
     "output_type": "execute_result"
    }
   ],
   "source": [
    "p = [:k7b => 0.006, :k22f => 0.03, :k23b => 0.021, :k22b => 0.064, :k20f => 0.12, :k24b => 0.0429, :k14f => 6.0, :k25b => 0.03, :k5b => 0.2, :k13b => 0.6, \n",
    ":k23f => 0.1, :k7f => 0.3, :k21f => 0.003, :k11b => 0.0045, :k21b => 0.1, :V4 => 450.0, :k1f => 0.003, :k18b => 0.0009, :k12f => 0.0015, :k25f => 1.0, :k19f => 0.01, \n",
    ":k24f => 0.009, :k6f => 1.0, :k3f => 1.0, :k17f => 0.003, :k9b => 0.05, :K16 => 340.0, :V8 => 1.0, :k11f => 0.03, :k14b => 0.06, :k6b => 0.05, :k5f => 0.06, :k15b => 0.0009, \n",
    ":k19b => 0.0214, :k13f => 0.09, :k1b => 0.06, :k12b => 0.0001, :K4 => 50.0, :K8 => 100.0, :k17b => 0.1, :ADP => 1.0, :k3b => 0.01, :k9f => 0.003, :ATP => 1.0, :k20b => 0.00024, \n",
    ":k10f => 0.01, :V16 => 1.7, :k15f => 0.3, :k2b => 0.1, :k18f => 0.3, :k2f => 0.01, :k10b => 0.06, :default_compartment => 1.0] "
   ]
  },
  {
   "cell_type": "code",
   "execution_count": 9,
   "metadata": {},
   "outputs": [
    {
     "data": {
      "text/plain": [
       "1-element Vector{Int64}:\n",
       " 51"
      ]
     },
     "execution_count": 9,
     "metadata": {},
     "output_type": "execute_result"
    }
   ],
   "source": [
    "findall(p .== (:k2f => 0.01))"
   ]
  },
  {
   "cell_type": "code",
   "execution_count": 16,
   "metadata": {},
   "outputs": [
    {
     "ename": "LoadError",
     "evalue": "UndefVarError: `get_unknowns` not defined in `Main`\nSuggestion: check for spelling errors or missing imports.",
     "output_type": "error",
     "traceback": [
      "UndefVarError: `get_unknowns` not defined in `Main`\nSuggestion: check for spelling errors or missing imports.",
      "",
      "Stacktrace:",
      " [1] top-level scope",
      "   @ In[16]:1"
     ]
    }
   ],
   "source": [
    "get_unknowns(prob)"
   ]
  },
  {
   "cell_type": "code",
   "execution_count": 27,
   "metadata": {},
   "outputs": [
    {
     "data": {
      "text/plain": [
       "23-element Vector{Pair{SymbolicUtils.BasicSymbolic{Real}, Float64}}:\n",
       "     Ra(t) => 0.0\n",
       "    RGS(t) => 0.0\n",
       "    Shc(t) => 150.0\n",
       "    EGF(t) => 680.0\n",
       "   ShGS(t) => 0.0\n",
       "     RP(t) => 0.0\n",
       " RPLCgP(t) => 0.0\n",
       "     RG(t) => 0.0\n",
       "   RShP(t) => 0.0\n",
       "    SOS(t) => 34.0\n",
       "  RShGS(t) => 0.0\n",
       "   RShG(t) => 0.0\n",
       "   PLCg(t) => 105.0\n",
       "     GS(t) => 0.0\n",
       "    ShP(t) => 0.0\n",
       "    Grb(t) => 85.0\n",
       "  PLCgl(t) => 0.0\n",
       "    RSh(t) => 0.0\n",
       "    ShG(t) => 0.0\n",
       "  RPLCg(t) => 0.0\n",
       "  PLCgP(t) => 0.0\n",
       "      R(t) => 100.0\n",
       "     R2(t) => 0.0"
      ]
     },
     "execution_count": 27,
     "metadata": {},
     "output_type": "execute_result"
    }
   ],
   "source": [
    "map_it = species(reaction_network) .=> prob.u0"
   ]
  },
  {
   "cell_type": "code",
   "execution_count": null,
   "metadata": {},
   "outputs": [],
   "source": [
    "[:Ra => 0.0, :RGS => 0.0, :Shc => 150.0, :EGF => 68.0, :ShGS => 0.0, :RP => 0.0, :RPLCgP => 0.0, :RG => 0.0, :RShP => 0.0, :SOS => 34.0, \n",
    ":RShGS => 0.0, :RShG => 0.0, :PLCg => 105.0, :GS => 0.0, :ShP => 0.0, :Grb => 85.0, :PLCgl => 0.0, :RSh => 0.0, :ShG => 0.0, :RPLCg => 0.0, \n",
    ":PLCgP => 0.0, :R => 100.0, :R2 => 0.0]"
   ]
  },
  {
   "cell_type": "code",
   "execution_count": 31,
   "metadata": {},
   "outputs": [
    {
     "data": {
      "text/plain": [
       "20.400002040000206"
      ]
     },
     "execution_count": 31,
     "metadata": {},
     "output_type": "execute_result"
    }
   ],
   "source": [
    "680/33.33"
   ]
  },
  {
   "cell_type": "code",
   "execution_count": 33,
   "metadata": {},
   "outputs": [
    {
     "data": {
      "text/plain": [
       "66.66"
      ]
     },
     "execution_count": 33,
     "metadata": {},
     "output_type": "execute_result"
    }
   ],
   "source": [
    "33.33*2"
   ]
  },
  {
   "cell_type": "code",
   "execution_count": 13,
   "metadata": {},
   "outputs": [
    {
     "data": {
      "text/plain": [
       "1-element Vector{Vector{Pair{SymbolicUtils.BasicSymbolic{Real}, Vector{Float64}}}}:\n",
       " [k7b => [0.06, 0.0045, 0.2, 0.021, 6.0, 1.0, 1.0, 0.12, 0.6, 0.09  …  0.1, 0.01, 0.003, 100.0, 0.03, 0.0214, 0.0429, 340.0, 0.064, 0.03], k22f => [0.06, 0.0045, 0.2, 0.021, 6.0, 1.0, 1.0, 0.12, 0.6, 0.09  …  0.1, 0.01, 0.003, 100.0, 0.03, 0.0214, 0.0429, 340.0, 0.064, 0.03], k23b => [0.06, 0.0045, 0.2, 0.021, 6.0, 1.0, 1.0, 0.12, 0.6, 0.09  …  0.1, 0.01, 0.003, 100.0, 0.03, 0.0214, 0.0429, 340.0, 0.064, 0.03], k22b => [0.06, 0.0045, 0.2, 0.021, 6.0, 1.0, 1.0, 0.12, 0.6, 0.09  …  0.1, 0.01, 0.003, 100.0, 0.03, 0.0214, 0.0429, 340.0, 0.064, 0.03], k20f => [0.06, 0.0045, 0.2, 0.021, 6.0, 1.0, 1.0, 0.12, 0.6, 0.09  …  0.1, 0.01, 0.003, 100.0, 0.03, 0.0214, 0.0429, 340.0, 0.064, 0.03], k24b => [0.06, 0.0045, 0.2, 0.021, 6.0, 1.0, 1.0, 0.12, 0.6, 0.09  …  0.1, 0.01, 0.003, 100.0, 0.03, 0.0214, 0.0429, 340.0, 0.064, 0.03], k14f => [0.06, 0.0045, 0.2, 0.021, 6.0, 1.0, 1.0, 0.12, 0.6, 0.09  …  0.1, 0.01, 0.003, 100.0, 0.03, 0.0214, 0.0429, 340.0, 0.064, 0.03], k25b => [0.06, 0.0045, 0.2, 0.021, 6.0, 1.0, 1.0, 0.12, 0.6, 0.09  …  0.1, 0.01, 0.003, 100.0, 0.03, 0.0214, 0.0429, 340.0, 0.064, 0.03], k5b => [0.06, 0.0045, 0.2, 0.021, 6.0, 1.0, 1.0, 0.12, 0.6, 0.09  …  0.1, 0.01, 0.003, 100.0, 0.03, 0.0214, 0.0429, 340.0, 0.064, 0.03], k13b => [0.06, 0.0045, 0.2, 0.021, 6.0, 1.0, 1.0, 0.12, 0.6, 0.09  …  0.1, 0.01, 0.003, 100.0, 0.03, 0.0214, 0.0429, 340.0, 0.064, 0.03]  …  ATP => [0.06, 0.0045, 0.2, 0.021, 6.0, 1.0, 1.0, 0.12, 0.6, 0.09  …  0.1, 0.01, 0.003, 100.0, 0.03, 0.0214, 0.0429, 340.0, 0.064, 0.03], k20b => [0.06, 0.0045, 0.2, 0.021, 6.0, 1.0, 1.0, 0.12, 0.6, 0.09  …  0.1, 0.01, 0.003, 100.0, 0.03, 0.0214, 0.0429, 340.0, 0.064, 0.03], k10f => [0.06, 0.0045, 0.2, 0.021, 6.0, 1.0, 1.0, 0.12, 0.6, 0.09  …  0.1, 0.01, 0.003, 100.0, 0.03, 0.0214, 0.0429, 340.0, 0.064, 0.03], V16 => [0.06, 0.0045, 0.2, 0.021, 6.0, 1.0, 1.0, 0.12, 0.6, 0.09  …  0.1, 0.01, 0.003, 100.0, 0.03, 0.0214, 0.0429, 340.0, 0.064, 0.03], k15f => [0.06, 0.0045, 0.2, 0.021, 6.0, 1.0, 1.0, 0.12, 0.6, 0.09  …  0.1, 0.01, 0.003, 100.0, 0.03, 0.0214, 0.0429, 340.0, 0.064, 0.03], k2b => [0.06, 0.0045, 0.2, 0.021, 6.0, 1.0, 1.0, 0.12, 0.6, 0.09  …  0.1, 0.01, 0.003, 100.0, 0.03, 0.0214, 0.0429, 340.0, 0.064, 0.03], k18f => [0.06, 0.0045, 0.2, 0.021, 6.0, 1.0, 1.0, 0.12, 0.6, 0.09  …  0.1, 0.01, 0.003, 100.0, 0.03, 0.0214, 0.0429, 340.0, 0.064, 0.03], k2f => [0.06, 0.0045, 0.2, 0.021, 6.0, 1.0, 1.0, 0.12, 0.6, 0.09  …  0.1, 0.01, 0.003, 100.0, 0.03, 0.0214, 0.0429, 340.0, 0.064, 0.03], k10b => [0.06, 0.0045, 0.2, 0.021, 6.0, 1.0, 1.0, 0.12, 0.6, 0.09  …  0.1, 0.01, 0.003, 100.0, 0.03, 0.0214, 0.0429, 340.0, 0.064, 0.03], default_compartment => [0.06, 0.0045, 0.2, 0.021, 6.0, 1.0, 1.0, 0.12, 0.6, 0.09  …  0.1, 0.01, 0.003, 100.0, 0.03, 0.0214, 0.0429, 340.0, 0.064, 0.03]]"
      ]
     },
     "execution_count": 13,
     "metadata": {},
     "output_type": "execute_result"
    }
   ],
   "source": [
    "[parameters(reaction_network) .=> prob.p]"
   ]
  },
  {
   "cell_type": "code",
   "execution_count": 14,
   "metadata": {},
   "outputs": [
    {
     "data": {
      "text/plain": [
       "MTKParameters{Vector{Float64}, Tuple{}, Tuple{}, Tuple{}}([0.06, 0.0045, 0.2, 0.021, 6.0, 1.0, 1.0, 0.12, 0.6, 0.09  …  0.1, 0.01, 0.003, 100.0, 0.03, 0.0214, 0.0429, 340.0, 0.064, 0.03], (), (), ())"
      ]
     },
     "execution_count": 14,
     "metadata": {},
     "output_type": "execute_result"
    }
   ],
   "source": [
    "prob.p"
   ]
  },
  {
   "cell_type": "code",
   "execution_count": 9,
   "metadata": {},
   "outputs": [
    {
     "data": {
      "text/plain": [
       "23-element Vector{SymbolicUtils.BasicSymbolic{Real}}:\n",
       " Ra(t)\n",
       " RGS(t)\n",
       " Shc(t)\n",
       " EGF(t)\n",
       " ShGS(t)\n",
       " RP(t)\n",
       " RPLCgP(t)\n",
       " RG(t)\n",
       " RShP(t)\n",
       " SOS(t)\n",
       " RShGS(t)\n",
       " RShG(t)\n",
       " PLCg(t)\n",
       " GS(t)\n",
       " ShP(t)\n",
       " Grb(t)\n",
       " PLCgl(t)\n",
       " RSh(t)\n",
       " ShG(t)\n",
       " RPLCg(t)\n",
       " PLCgP(t)\n",
       " R(t)\n",
       " R2(t)"
      ]
     },
     "execution_count": 9,
     "metadata": {},
     "output_type": "execute_result"
    }
   ],
   "source": [
    "species(reaction_network)"
   ]
  }
 ],
 "metadata": {
  "kernelspec": {
   "display_name": "Julia(ml_informed_binding_affinity_10_threads) 1.11.1",
   "language": "julia",
   "name": "julia_ml_informed_binding_affinity_10_threads_-1.11"
  },
  "language_info": {
   "file_extension": ".jl",
   "mimetype": "application/julia",
   "name": "julia",
   "version": "1.11.1"
  },
  "orig_nbformat": 4
 },
 "nbformat": 4,
 "nbformat_minor": 2
}
